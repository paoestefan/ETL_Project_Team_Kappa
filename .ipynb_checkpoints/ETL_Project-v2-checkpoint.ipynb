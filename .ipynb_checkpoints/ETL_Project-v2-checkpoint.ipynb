{
 "cells": [
  {
   "cell_type": "markdown",
   "metadata": {},
   "source": []
  },
  {
   "cell_type": "markdown",
   "metadata": {},
   "source": [
    "# Project 2 - ETL\n",
    "\n",
    "## Team Kappa\n",
    "- Edgar Alejo\n",
    "- Jose Luis Duarte\n",
    "- Joaquin Osio\n",
    "- Pedro Terrazas\n",
    "- Paola E. Vázquez\n"
   ]
  },
  {
   "cell_type": "markdown",
   "metadata": {},
   "source": [
    " ___________________________________________\n",
    "## EXTRACT STAGE"
   ]
  },
  {
   "cell_type": "code",
   "execution_count": 1,
   "metadata": {},
   "outputs": [],
   "source": [
    "# Source of the Raw Data\n",
    "#https://www.kaggle.com/ruchi798/movies-on-netflix-prime-video-hulu-and-disney\n",
    "#https://www.kaggle.com/ruchi798/tv-shows-on-netflix-prime-video-hulu-and-disney\n",
    "\n"
   ]
  },
  {
   "cell_type": "code",
   "execution_count": 2,
   "metadata": {},
   "outputs": [],
   "source": [
    "#!pip install seaborn"
   ]
  },
  {
   "cell_type": "code",
   "execution_count": 3,
   "metadata": {},
   "outputs": [],
   "source": [
    "#!pip install plotly"
   ]
  },
  {
   "cell_type": "code",
   "execution_count": 4,
   "metadata": {},
   "outputs": [],
   "source": [
    "#Import Dependencies\n",
    "\n",
    "import numpy as np \n",
    "import pandas as pd \n",
    "import matplotlib.pyplot as plt\n",
    "#import seaborn as sns\n",
    "#import scipy.stats as stats\n",
    "#import plotly.express as px\n",
    "#from wordcloud import WordCloud\n",
    "from sqlalchemy import create_engine"
   ]
  },
  {
   "cell_type": "markdown",
   "metadata": {},
   "source": [
    "#### Getting Data form CSVs"
   ]
  },
  {
   "cell_type": "code",
   "execution_count": 5,
   "metadata": {},
   "outputs": [],
   "source": [
    "# Get Data\n",
    "master_df=pd.read_csv('MoviesOnStreemingPlatformsV2.csv')\n",
    "master_df2=pd.read_csv('tv_shows.csv')"
   ]
  },
  {
   "cell_type": "code",
   "execution_count": 6,
   "metadata": {},
   "outputs": [
    {
     "data": {
      "text/html": [
       "<div>\n",
       "<style scoped>\n",
       "    .dataframe tbody tr th:only-of-type {\n",
       "        vertical-align: middle;\n",
       "    }\n",
       "\n",
       "    .dataframe tbody tr th {\n",
       "        vertical-align: top;\n",
       "    }\n",
       "\n",
       "    .dataframe thead th {\n",
       "        text-align: right;\n",
       "    }\n",
       "</style>\n",
       "<table border=\"1\" class=\"dataframe\">\n",
       "  <thead>\n",
       "    <tr style=\"text-align: right;\">\n",
       "      <th></th>\n",
       "      <th>ID</th>\n",
       "      <th>Title</th>\n",
       "      <th>Year</th>\n",
       "      <th>Age</th>\n",
       "      <th>IMDb</th>\n",
       "      <th>Rotten Tomatoes</th>\n",
       "      <th>Netflix</th>\n",
       "      <th>Hulu</th>\n",
       "      <th>Prime Video</th>\n",
       "      <th>Disney+</th>\n",
       "      <th>Type</th>\n",
       "      <th>Directors</th>\n",
       "      <th>Genres</th>\n",
       "      <th>Country</th>\n",
       "      <th>Language</th>\n",
       "      <th>Runtime</th>\n",
       "    </tr>\n",
       "  </thead>\n",
       "  <tbody>\n",
       "    <tr>\n",
       "      <th>0</th>\n",
       "      <td>1</td>\n",
       "      <td>Inception</td>\n",
       "      <td>2010</td>\n",
       "      <td>13+</td>\n",
       "      <td>8.8</td>\n",
       "      <td>87%</td>\n",
       "      <td>1</td>\n",
       "      <td>0</td>\n",
       "      <td>0</td>\n",
       "      <td>0</td>\n",
       "      <td>0</td>\n",
       "      <td>Christopher Nolan</td>\n",
       "      <td>Action,Adventure,Sci-Fi,Thriller</td>\n",
       "      <td>United States,United Kingdom</td>\n",
       "      <td>English,Japanese,French</td>\n",
       "      <td>148.0</td>\n",
       "    </tr>\n",
       "    <tr>\n",
       "      <th>1</th>\n",
       "      <td>2</td>\n",
       "      <td>The Matrix</td>\n",
       "      <td>1999</td>\n",
       "      <td>18+</td>\n",
       "      <td>8.7</td>\n",
       "      <td>87%</td>\n",
       "      <td>1</td>\n",
       "      <td>0</td>\n",
       "      <td>0</td>\n",
       "      <td>0</td>\n",
       "      <td>0</td>\n",
       "      <td>Lana Wachowski,Lilly Wachowski</td>\n",
       "      <td>Action,Sci-Fi</td>\n",
       "      <td>United States</td>\n",
       "      <td>English</td>\n",
       "      <td>136.0</td>\n",
       "    </tr>\n",
       "  </tbody>\n",
       "</table>\n",
       "</div>"
      ],
      "text/plain": [
       "   ID       Title  Year  Age  IMDb Rotten Tomatoes  Netflix  Hulu  \\\n",
       "0   1   Inception  2010  13+   8.8             87%        1     0   \n",
       "1   2  The Matrix  1999  18+   8.7             87%        1     0   \n",
       "\n",
       "   Prime Video  Disney+  Type                       Directors  \\\n",
       "0            0        0     0               Christopher Nolan   \n",
       "1            0        0     0  Lana Wachowski,Lilly Wachowski   \n",
       "\n",
       "                             Genres                       Country  \\\n",
       "0  Action,Adventure,Sci-Fi,Thriller  United States,United Kingdom   \n",
       "1                     Action,Sci-Fi                 United States   \n",
       "\n",
       "                  Language  Runtime  \n",
       "0  English,Japanese,French    148.0  \n",
       "1                  English    136.0  "
      ]
     },
     "execution_count": 6,
     "metadata": {},
     "output_type": "execute_result"
    }
   ],
   "source": [
    "master_df.head(2)"
   ]
  },
  {
   "cell_type": "code",
   "execution_count": 7,
   "metadata": {},
   "outputs": [
    {
     "data": {
      "text/html": [
       "<div>\n",
       "<style scoped>\n",
       "    .dataframe tbody tr th:only-of-type {\n",
       "        vertical-align: middle;\n",
       "    }\n",
       "\n",
       "    .dataframe tbody tr th {\n",
       "        vertical-align: top;\n",
       "    }\n",
       "\n",
       "    .dataframe thead th {\n",
       "        text-align: right;\n",
       "    }\n",
       "</style>\n",
       "<table border=\"1\" class=\"dataframe\">\n",
       "  <thead>\n",
       "    <tr style=\"text-align: right;\">\n",
       "      <th></th>\n",
       "      <th>Unnamed: 0</th>\n",
       "      <th>Title</th>\n",
       "      <th>Year</th>\n",
       "      <th>Age</th>\n",
       "      <th>IMDb</th>\n",
       "      <th>Rotten Tomatoes</th>\n",
       "      <th>Netflix</th>\n",
       "      <th>Hulu</th>\n",
       "      <th>Prime Video</th>\n",
       "      <th>Disney+</th>\n",
       "      <th>type</th>\n",
       "    </tr>\n",
       "  </thead>\n",
       "  <tbody>\n",
       "    <tr>\n",
       "      <th>0</th>\n",
       "      <td>0</td>\n",
       "      <td>Breaking Bad</td>\n",
       "      <td>2008</td>\n",
       "      <td>18+</td>\n",
       "      <td>9.5</td>\n",
       "      <td>96%</td>\n",
       "      <td>1</td>\n",
       "      <td>0</td>\n",
       "      <td>0</td>\n",
       "      <td>0</td>\n",
       "      <td>1</td>\n",
       "    </tr>\n",
       "    <tr>\n",
       "      <th>1</th>\n",
       "      <td>1</td>\n",
       "      <td>Stranger Things</td>\n",
       "      <td>2016</td>\n",
       "      <td>16+</td>\n",
       "      <td>8.8</td>\n",
       "      <td>93%</td>\n",
       "      <td>1</td>\n",
       "      <td>0</td>\n",
       "      <td>0</td>\n",
       "      <td>0</td>\n",
       "      <td>1</td>\n",
       "    </tr>\n",
       "  </tbody>\n",
       "</table>\n",
       "</div>"
      ],
      "text/plain": [
       "   Unnamed: 0            Title  Year  Age  IMDb Rotten Tomatoes  Netflix  \\\n",
       "0           0     Breaking Bad  2008  18+   9.5             96%        1   \n",
       "1           1  Stranger Things  2016  16+   8.8             93%        1   \n",
       "\n",
       "   Hulu  Prime Video  Disney+  type  \n",
       "0     0            0        0     1  \n",
       "1     0            0        0     1  "
      ]
     },
     "execution_count": 7,
     "metadata": {},
     "output_type": "execute_result"
    }
   ],
   "source": [
    "master_df2.head(2)"
   ]
  },
  {
   "cell_type": "code",
   "execution_count": 8,
   "metadata": {},
   "outputs": [
    {
     "data": {
      "text/plain": [
       "(16518, 16)"
      ]
     },
     "execution_count": 8,
     "metadata": {},
     "output_type": "execute_result"
    }
   ],
   "source": [
    "# Shape of the dataframe MOVIES\n",
    "master_df.shape"
   ]
  },
  {
   "cell_type": "code",
   "execution_count": 9,
   "metadata": {},
   "outputs": [
    {
     "data": {
      "text/plain": [
       "(5599, 11)"
      ]
     },
     "execution_count": 9,
     "metadata": {},
     "output_type": "execute_result"
    }
   ],
   "source": [
    "# Shape of the dataframe SERIES\n",
    "master_df2.shape"
   ]
  },
  {
   "cell_type": "code",
   "execution_count": 10,
   "metadata": {},
   "outputs": [
    {
     "data": {
      "text/plain": [
       "Index(['ID', 'Title', 'Year', 'Age', 'IMDb', 'Rotten Tomatoes', 'Netflix',\n",
       "       'Hulu', 'Prime Video', 'Disney+', 'Type', 'Directors', 'Genres',\n",
       "       'Country', 'Language', 'Runtime'],\n",
       "      dtype='object')"
      ]
     },
     "execution_count": 10,
     "metadata": {},
     "output_type": "execute_result"
    }
   ],
   "source": [
    "# Print the name of the columns MOVIES\n",
    "master_df.columns"
   ]
  },
  {
   "cell_type": "code",
   "execution_count": 11,
   "metadata": {},
   "outputs": [
    {
     "data": {
      "text/plain": [
       "Index(['Unnamed: 0', 'Title', 'Year', 'Age', 'IMDb', 'Rotten Tomatoes',\n",
       "       'Netflix', 'Hulu', 'Prime Video', 'Disney+', 'type'],\n",
       "      dtype='object')"
      ]
     },
     "execution_count": 11,
     "metadata": {},
     "output_type": "execute_result"
    }
   ],
   "source": [
    "# Print the name of the columns SERIES\n",
    "master_df2.columns"
   ]
  },
  {
   "cell_type": "markdown",
   "metadata": {},
   "source": [
    "___________________________________________\n",
    "## TRANSFORM STAGE\n",
    "### NULL Values Verification"
   ]
  },
  {
   "cell_type": "code",
   "execution_count": 12,
   "metadata": {},
   "outputs": [
    {
     "data": {
      "text/plain": [
       "ID                     0\n",
       "Title                  0\n",
       "Year                   0\n",
       "Age                 9183\n",
       "IMDb                 410\n",
       "Rotten Tomatoes    11363\n",
       "Netflix                0\n",
       "Hulu                   0\n",
       "Prime Video            0\n",
       "Disney+                0\n",
       "Type                   0\n",
       "Directors            500\n",
       "Genres                49\n",
       "Country              209\n",
       "Language             373\n",
       "Runtime              366\n",
       "dtype: int64"
      ]
     },
     "execution_count": 12,
     "metadata": {},
     "output_type": "execute_result"
    }
   ],
   "source": [
    "# Check for NULL Values MOVIES\n",
    "master_df.isnull().sum()"
   ]
  },
  {
   "cell_type": "code",
   "execution_count": 13,
   "metadata": {},
   "outputs": [
    {
     "data": {
      "text/plain": [
       "Unnamed: 0            0\n",
       "Title                 0\n",
       "Year                  0\n",
       "Age                2439\n",
       "IMDb               1155\n",
       "Rotten Tomatoes    4590\n",
       "Netflix               0\n",
       "Hulu                  0\n",
       "Prime Video           0\n",
       "Disney+               0\n",
       "type                  0\n",
       "dtype: int64"
      ]
     },
     "execution_count": 13,
     "metadata": {},
     "output_type": "execute_result"
    }
   ],
   "source": [
    "# Check for NULL Values SERIES\n",
    "master_df2.isnull().sum()"
   ]
  },
  {
   "cell_type": "code",
   "execution_count": 14,
   "metadata": {
    "scrolled": true
   },
   "outputs": [
    {
     "data": {
      "text/plain": [
       "ID                 16518\n",
       "Title              16518\n",
       "Year                 109\n",
       "Age                    5\n",
       "IMDb                  82\n",
       "Rotten Tomatoes       99\n",
       "Netflix                2\n",
       "Hulu                   2\n",
       "Prime Video            2\n",
       "Disney+                2\n",
       "Type                   1\n",
       "Directors          11338\n",
       "Genres              1909\n",
       "Country             1303\n",
       "Language            1102\n",
       "Runtime              225\n",
       "dtype: int64"
      ]
     },
     "execution_count": 14,
     "metadata": {},
     "output_type": "execute_result"
    }
   ],
   "source": [
    "# Check unique values MOVIES\n",
    "master_df.nunique()"
   ]
  },
  {
   "cell_type": "code",
   "execution_count": 15,
   "metadata": {},
   "outputs": [
    {
     "data": {
      "text/plain": [
       "Unnamed: 0         5599\n",
       "Title              5557\n",
       "Year                 81\n",
       "Age                   5\n",
       "IMDb                 78\n",
       "Rotten Tomatoes      88\n",
       "Netflix               2\n",
       "Hulu                  2\n",
       "Prime Video           2\n",
       "Disney+               2\n",
       "type                  1\n",
       "dtype: int64"
      ]
     },
     "execution_count": 15,
     "metadata": {},
     "output_type": "execute_result"
    }
   ],
   "source": [
    "# Check unique values SERIES\n",
    "master_df2.nunique()"
   ]
  },
  {
   "cell_type": "markdown",
   "metadata": {},
   "source": [
    "### Duplicate Values Verification"
   ]
  },
  {
   "cell_type": "code",
   "execution_count": 16,
   "metadata": {},
   "outputs": [
    {
     "data": {
      "text/plain": [
       "0"
      ]
     },
     "execution_count": 16,
     "metadata": {},
     "output_type": "execute_result"
    }
   ],
   "source": [
    "# Check for duplicate values MOVIES\n",
    "master_df.duplicated().sum()"
   ]
  },
  {
   "cell_type": "code",
   "execution_count": 17,
   "metadata": {},
   "outputs": [
    {
     "data": {
      "text/plain": [
       "0"
      ]
     },
     "execution_count": 17,
     "metadata": {},
     "output_type": "execute_result"
    }
   ],
   "source": [
    "# Check for duplicate values SERIES\n",
    "master_df2.duplicated().sum()"
   ]
  },
  {
   "cell_type": "code",
   "execution_count": 18,
   "metadata": {},
   "outputs": [],
   "source": [
    "# Make a copy for the dataset\n",
    "master_dup_df = master_df.copy()"
   ]
  },
  {
   "cell_type": "code",
   "execution_count": 19,
   "metadata": {},
   "outputs": [],
   "source": [
    "# Make a copy for the dataset\n",
    "master_dup_df2 = master_df2.copy()"
   ]
  },
  {
   "cell_type": "code",
   "execution_count": 20,
   "metadata": {},
   "outputs": [
    {
     "data": {
      "text/plain": [
       "(16518, 16)"
      ]
     },
     "execution_count": 20,
     "metadata": {},
     "output_type": "execute_result"
    }
   ],
   "source": [
    "master_dup_df.shape"
   ]
  },
  {
   "cell_type": "code",
   "execution_count": 21,
   "metadata": {},
   "outputs": [
    {
     "data": {
      "text/plain": [
       "(5599, 11)"
      ]
     },
     "execution_count": 21,
     "metadata": {},
     "output_type": "execute_result"
    }
   ],
   "source": [
    "master_dup_df2.shape"
   ]
  },
  {
   "cell_type": "markdown",
   "metadata": {},
   "source": [
    "### Cleanning NULL Values"
   ]
  },
  {
   "cell_type": "code",
   "execution_count": 22,
   "metadata": {},
   "outputs": [
    {
     "data": {
      "text/plain": [
       "(16152, 16)"
      ]
     },
     "execution_count": 22,
     "metadata": {},
     "output_type": "execute_result"
    }
   ],
   "source": [
    "# Drop NULL values in Runtime MOVIES\n",
    "\n",
    "master_dup_df=master_dup_df.dropna(subset=['Runtime'])\n",
    "master_dup_df.shape\n",
    "\n"
   ]
  },
  {
   "cell_type": "code",
   "execution_count": 23,
   "metadata": {},
   "outputs": [
    {
     "data": {
      "text/plain": [
       "(15844, 16)"
      ]
     },
     "execution_count": 23,
     "metadata": {},
     "output_type": "execute_result"
    }
   ],
   "source": [
    "# Drop NULL values in Language and Country MOVIES\n",
    "master_dup_df=master_dup_df.dropna(subset=['Language','Country'])\n",
    "master_dup_df.shape\n"
   ]
  },
  {
   "cell_type": "code",
   "execution_count": 24,
   "metadata": {},
   "outputs": [
    {
     "data": {
      "text/plain": [
       "ID                     0\n",
       "Title                  0\n",
       "Year                   0\n",
       "Age                 8663\n",
       "IMDb                 301\n",
       "Rotten Tomatoes    10758\n",
       "Netflix                0\n",
       "Hulu                   0\n",
       "Prime Video            0\n",
       "Disney+                0\n",
       "Type                   0\n",
       "Directors            339\n",
       "Genres                15\n",
       "Country                0\n",
       "Language               0\n",
       "Runtime                0\n",
       "dtype: int64"
      ]
     },
     "execution_count": 24,
     "metadata": {},
     "output_type": "execute_result"
    }
   ],
   "source": [
    "# Null value validation MOVIES\n",
    "master_dup_df.isnull().sum()"
   ]
  },
  {
   "cell_type": "markdown",
   "metadata": {},
   "source": [
    "### Filling Values Missing"
   ]
  },
  {
   "cell_type": "code",
   "execution_count": 25,
   "metadata": {},
   "outputs": [],
   "source": [
    "#master_dup_df['Directors'] = master_dup_df['Directors'].fillna(\"missing\") MOVIES\n",
    "filtered_df = master_dup_df.copy()\n"
   ]
  },
  {
   "cell_type": "code",
   "execution_count": 26,
   "metadata": {},
   "outputs": [
    {
     "data": {
      "text/plain": [
       "ID                     0\n",
       "Title                  0\n",
       "Year                   0\n",
       "Age                 8663\n",
       "IMDb                 301\n",
       "Rotten Tomatoes    10758\n",
       "Netflix                0\n",
       "Hulu                   0\n",
       "Prime Video            0\n",
       "Disney+                0\n",
       "Type                   0\n",
       "Directors            339\n",
       "Genres                15\n",
       "Country                0\n",
       "Language               0\n",
       "Runtime                0\n",
       "dtype: int64"
      ]
     },
     "execution_count": 26,
     "metadata": {},
     "output_type": "execute_result"
    }
   ],
   "source": [
    "filtered_df.isnull().sum()\n"
   ]
  },
  {
   "cell_type": "code",
   "execution_count": 27,
   "metadata": {},
   "outputs": [],
   "source": [
    "# Fill Director NA with \"No Director\"\n",
    "filtered_df[\"Directors\"].fillna(\"No Director\", inplace = True)"
   ]
  },
  {
   "cell_type": "code",
   "execution_count": 28,
   "metadata": {},
   "outputs": [
    {
     "data": {
      "text/html": [
       "<div>\n",
       "<style scoped>\n",
       "    .dataframe tbody tr th:only-of-type {\n",
       "        vertical-align: middle;\n",
       "    }\n",
       "\n",
       "    .dataframe tbody tr th {\n",
       "        vertical-align: top;\n",
       "    }\n",
       "\n",
       "    .dataframe thead th {\n",
       "        text-align: right;\n",
       "    }\n",
       "</style>\n",
       "<table border=\"1\" class=\"dataframe\">\n",
       "  <thead>\n",
       "    <tr style=\"text-align: right;\">\n",
       "      <th></th>\n",
       "      <th>ID</th>\n",
       "      <th>Title</th>\n",
       "      <th>Year</th>\n",
       "      <th>Age</th>\n",
       "      <th>IMDb</th>\n",
       "      <th>Rotten Tomatoes</th>\n",
       "      <th>Netflix</th>\n",
       "      <th>Hulu</th>\n",
       "      <th>Prime Video</th>\n",
       "      <th>Disney+</th>\n",
       "      <th>Type</th>\n",
       "      <th>Directors</th>\n",
       "      <th>Genres</th>\n",
       "      <th>Country</th>\n",
       "      <th>Language</th>\n",
       "      <th>Runtime</th>\n",
       "    </tr>\n",
       "  </thead>\n",
       "  <tbody>\n",
       "    <tr>\n",
       "      <th>58</th>\n",
       "      <td>59</td>\n",
       "      <td>Snowpiercer</td>\n",
       "      <td>2013</td>\n",
       "      <td>18+</td>\n",
       "      <td>7.1</td>\n",
       "      <td>94%</td>\n",
       "      <td>1</td>\n",
       "      <td>0</td>\n",
       "      <td>0</td>\n",
       "      <td>0</td>\n",
       "      <td>0</td>\n",
       "      <td>No Director</td>\n",
       "      <td>Action,Drama,Sci-Fi,Thriller</td>\n",
       "      <td>United States</td>\n",
       "      <td>English</td>\n",
       "      <td>60.0</td>\n",
       "    </tr>\n",
       "    <tr>\n",
       "      <th>80</th>\n",
       "      <td>81</td>\n",
       "      <td>Philadelphia</td>\n",
       "      <td>1993</td>\n",
       "      <td>13+</td>\n",
       "      <td>7.7</td>\n",
       "      <td>80%</td>\n",
       "      <td>1</td>\n",
       "      <td>0</td>\n",
       "      <td>0</td>\n",
       "      <td>0</td>\n",
       "      <td>0</td>\n",
       "      <td>No Director</td>\n",
       "      <td>Comedy</td>\n",
       "      <td>United States</td>\n",
       "      <td>English</td>\n",
       "      <td>22.0</td>\n",
       "    </tr>\n",
       "  </tbody>\n",
       "</table>\n",
       "</div>"
      ],
      "text/plain": [
       "    ID         Title  Year  Age  IMDb Rotten Tomatoes  Netflix  Hulu  \\\n",
       "58  59   Snowpiercer  2013  18+   7.1             94%        1     0   \n",
       "80  81  Philadelphia  1993  13+   7.7             80%        1     0   \n",
       "\n",
       "    Prime Video  Disney+  Type    Directors                        Genres  \\\n",
       "58            0        0     0  No Director  Action,Drama,Sci-Fi,Thriller   \n",
       "80            0        0     0  No Director                        Comedy   \n",
       "\n",
       "          Country Language  Runtime  \n",
       "58  United States  English     60.0  \n",
       "80  United States  English     22.0  "
      ]
     },
     "execution_count": 28,
     "metadata": {},
     "output_type": "execute_result"
    }
   ],
   "source": [
    "# No Director validation\n",
    "No_Director = filtered_df.loc[:, \"Directors\"]==\"No Director\"\n",
    "df_no_director = filtered_df.loc[No_Director]\n",
    "df_no_director.head(2)"
   ]
  },
  {
   "cell_type": "code",
   "execution_count": 29,
   "metadata": {},
   "outputs": [
    {
     "data": {
      "text/plain": [
       "ID                     0\n",
       "Title                  0\n",
       "Year                   0\n",
       "Age                 8663\n",
       "IMDb                 301\n",
       "Rotten Tomatoes    10758\n",
       "Netflix                0\n",
       "Hulu                   0\n",
       "Prime Video            0\n",
       "Disney+                0\n",
       "Type                   0\n",
       "Directors              0\n",
       "Genres                15\n",
       "Country                0\n",
       "Language               0\n",
       "Runtime                0\n",
       "dtype: int64"
      ]
     },
     "execution_count": 29,
     "metadata": {},
     "output_type": "execute_result"
    }
   ],
   "source": [
    "# Null values validation\n",
    "filtered_df.isnull().sum()"
   ]
  },
  {
   "cell_type": "code",
   "execution_count": 30,
   "metadata": {},
   "outputs": [
    {
     "data": {
      "text/plain": [
       "(15844, 16)"
      ]
     },
     "execution_count": 30,
     "metadata": {},
     "output_type": "execute_result"
    }
   ],
   "source": [
    "filtered_df.shape"
   ]
  },
  {
   "cell_type": "code",
   "execution_count": 31,
   "metadata": {},
   "outputs": [
    {
     "data": {
      "text/html": [
       "<div>\n",
       "<style scoped>\n",
       "    .dataframe tbody tr th:only-of-type {\n",
       "        vertical-align: middle;\n",
       "    }\n",
       "\n",
       "    .dataframe tbody tr th {\n",
       "        vertical-align: top;\n",
       "    }\n",
       "\n",
       "    .dataframe thead th {\n",
       "        text-align: right;\n",
       "    }\n",
       "</style>\n",
       "<table border=\"1\" class=\"dataframe\">\n",
       "  <thead>\n",
       "    <tr style=\"text-align: right;\">\n",
       "      <th></th>\n",
       "      <th>ID</th>\n",
       "      <th>Title</th>\n",
       "      <th>Year</th>\n",
       "      <th>Age</th>\n",
       "      <th>IMDb</th>\n",
       "      <th>Rotten Tomatoes</th>\n",
       "      <th>Netflix</th>\n",
       "      <th>Hulu</th>\n",
       "      <th>Prime Video</th>\n",
       "      <th>Disney+</th>\n",
       "      <th>Directors</th>\n",
       "      <th>Genres</th>\n",
       "      <th>Country</th>\n",
       "      <th>Language</th>\n",
       "      <th>Runtime</th>\n",
       "    </tr>\n",
       "  </thead>\n",
       "  <tbody>\n",
       "    <tr>\n",
       "      <th>0</th>\n",
       "      <td>1</td>\n",
       "      <td>Inception</td>\n",
       "      <td>2010</td>\n",
       "      <td>13+</td>\n",
       "      <td>8.8</td>\n",
       "      <td>87%</td>\n",
       "      <td>1</td>\n",
       "      <td>0</td>\n",
       "      <td>0</td>\n",
       "      <td>0</td>\n",
       "      <td>Christopher Nolan</td>\n",
       "      <td>Action,Adventure,Sci-Fi,Thriller</td>\n",
       "      <td>United States,United Kingdom</td>\n",
       "      <td>English,Japanese,French</td>\n",
       "      <td>148.0</td>\n",
       "    </tr>\n",
       "    <tr>\n",
       "      <th>1</th>\n",
       "      <td>2</td>\n",
       "      <td>The Matrix</td>\n",
       "      <td>1999</td>\n",
       "      <td>18+</td>\n",
       "      <td>8.7</td>\n",
       "      <td>87%</td>\n",
       "      <td>1</td>\n",
       "      <td>0</td>\n",
       "      <td>0</td>\n",
       "      <td>0</td>\n",
       "      <td>Lana Wachowski,Lilly Wachowski</td>\n",
       "      <td>Action,Sci-Fi</td>\n",
       "      <td>United States</td>\n",
       "      <td>English</td>\n",
       "      <td>136.0</td>\n",
       "    </tr>\n",
       "  </tbody>\n",
       "</table>\n",
       "</div>"
      ],
      "text/plain": [
       "   ID       Title  Year  Age  IMDb Rotten Tomatoes  Netflix  Hulu  \\\n",
       "0   1   Inception  2010  13+   8.8             87%        1     0   \n",
       "1   2  The Matrix  1999  18+   8.7             87%        1     0   \n",
       "\n",
       "   Prime Video  Disney+                       Directors  \\\n",
       "0            0        0               Christopher Nolan   \n",
       "1            0        0  Lana Wachowski,Lilly Wachowski   \n",
       "\n",
       "                             Genres                       Country  \\\n",
       "0  Action,Adventure,Sci-Fi,Thriller  United States,United Kingdom   \n",
       "1                     Action,Sci-Fi                 United States   \n",
       "\n",
       "                  Language  Runtime  \n",
       "0  English,Japanese,French    148.0  \n",
       "1                  English    136.0  "
      ]
     },
     "execution_count": 31,
     "metadata": {},
     "output_type": "execute_result"
    }
   ],
   "source": [
    "# Drop Type Column: No usefull information on the dataframe MOVIES\n",
    "\n",
    "filtered_df.drop(['Type'],axis=1, inplace=True)\n",
    "\n",
    "filtered_df.head(2)"
   ]
  },
  {
   "cell_type": "code",
   "execution_count": 32,
   "metadata": {},
   "outputs": [
    {
     "data": {
      "text/html": [
       "<div>\n",
       "<style scoped>\n",
       "    .dataframe tbody tr th:only-of-type {\n",
       "        vertical-align: middle;\n",
       "    }\n",
       "\n",
       "    .dataframe tbody tr th {\n",
       "        vertical-align: top;\n",
       "    }\n",
       "\n",
       "    .dataframe thead th {\n",
       "        text-align: right;\n",
       "    }\n",
       "</style>\n",
       "<table border=\"1\" class=\"dataframe\">\n",
       "  <thead>\n",
       "    <tr style=\"text-align: right;\">\n",
       "      <th></th>\n",
       "      <th>ID</th>\n",
       "      <th>Title</th>\n",
       "      <th>Year</th>\n",
       "      <th>Age</th>\n",
       "      <th>IMDb</th>\n",
       "      <th>Rotten Tomatoes</th>\n",
       "      <th>Netflix</th>\n",
       "      <th>Hulu</th>\n",
       "      <th>Prime Video</th>\n",
       "      <th>Disney+</th>\n",
       "      <th>Directors</th>\n",
       "      <th>Genres</th>\n",
       "      <th>Country</th>\n",
       "      <th>Language</th>\n",
       "      <th>Runtime</th>\n",
       "    </tr>\n",
       "  </thead>\n",
       "  <tbody>\n",
       "    <tr>\n",
       "      <th>76</th>\n",
       "      <td>77</td>\n",
       "      <td>Y Tu MamÃ¡ TambiÃ©n</td>\n",
       "      <td>2001</td>\n",
       "      <td>18+</td>\n",
       "      <td>7.6</td>\n",
       "      <td>92%</td>\n",
       "      <td>1</td>\n",
       "      <td>0</td>\n",
       "      <td>0</td>\n",
       "      <td>0</td>\n",
       "      <td>Alfonso CuarÃ³n</td>\n",
       "      <td>Drama</td>\n",
       "      <td>Mexico</td>\n",
       "      <td>Spanish</td>\n",
       "      <td>106.0</td>\n",
       "    </tr>\n",
       "    <tr>\n",
       "      <th>910</th>\n",
       "      <td>911</td>\n",
       "      <td>SÃ³lo con tu pareja</td>\n",
       "      <td>1992</td>\n",
       "      <td>NaN</td>\n",
       "      <td>6.9</td>\n",
       "      <td>67%</td>\n",
       "      <td>1</td>\n",
       "      <td>0</td>\n",
       "      <td>1</td>\n",
       "      <td>0</td>\n",
       "      <td>Alfonso CuarÃ³n</td>\n",
       "      <td>Comedy,Romance</td>\n",
       "      <td>Mexico</td>\n",
       "      <td>Spanish,English,Japanese,Latin</td>\n",
       "      <td>94.0</td>\n",
       "    </tr>\n",
       "    <tr>\n",
       "      <th>2364</th>\n",
       "      <td>2365</td>\n",
       "      <td>The (Silent) War</td>\n",
       "      <td>2019</td>\n",
       "      <td>18+</td>\n",
       "      <td>5.6</td>\n",
       "      <td>56%</td>\n",
       "      <td>1</td>\n",
       "      <td>0</td>\n",
       "      <td>0</td>\n",
       "      <td>0</td>\n",
       "      <td>Alfonso CortÃ©s-Cavanillas</td>\n",
       "      <td>Action,Drama</td>\n",
       "      <td>Spain</td>\n",
       "      <td>Spanish</td>\n",
       "      <td>121.0</td>\n",
       "    </tr>\n",
       "    <tr>\n",
       "      <th>2885</th>\n",
       "      <td>2886</td>\n",
       "      <td>Acapulco la vida va</td>\n",
       "      <td>2017</td>\n",
       "      <td>NaN</td>\n",
       "      <td>5.4</td>\n",
       "      <td>NaN</td>\n",
       "      <td>1</td>\n",
       "      <td>0</td>\n",
       "      <td>0</td>\n",
       "      <td>0</td>\n",
       "      <td>Alfonso Serrano Maturino</td>\n",
       "      <td>Comedy,Drama</td>\n",
       "      <td>Mexico</td>\n",
       "      <td>Spanish</td>\n",
       "      <td>89.0</td>\n",
       "    </tr>\n",
       "    <tr>\n",
       "      <th>3222</th>\n",
       "      <td>3223</td>\n",
       "      <td>Pocoyo and the Space Circus</td>\n",
       "      <td>2008</td>\n",
       "      <td>all</td>\n",
       "      <td>5.9</td>\n",
       "      <td>NaN</td>\n",
       "      <td>1</td>\n",
       "      <td>0</td>\n",
       "      <td>0</td>\n",
       "      <td>0</td>\n",
       "      <td>Alfonso Rodriguez</td>\n",
       "      <td>Animation,Short</td>\n",
       "      <td>Spain</td>\n",
       "      <td>English,Spanish</td>\n",
       "      <td>24.0</td>\n",
       "    </tr>\n",
       "    <tr>\n",
       "      <th>3474</th>\n",
       "      <td>3475</td>\n",
       "      <td>Pocoyo Halloween: Space Halloween</td>\n",
       "      <td>2015</td>\n",
       "      <td>NaN</td>\n",
       "      <td>NaN</td>\n",
       "      <td>NaN</td>\n",
       "      <td>1</td>\n",
       "      <td>0</td>\n",
       "      <td>0</td>\n",
       "      <td>0</td>\n",
       "      <td>Alfonso Rodriguez</td>\n",
       "      <td>Animation,Short</td>\n",
       "      <td>United States</td>\n",
       "      <td>English</td>\n",
       "      <td>39.0</td>\n",
       "    </tr>\n",
       "    <tr>\n",
       "      <th>9452</th>\n",
       "      <td>9453</td>\n",
       "      <td>Picking Up the Pieces</td>\n",
       "      <td>2000</td>\n",
       "      <td>18+</td>\n",
       "      <td>4.8</td>\n",
       "      <td>NaN</td>\n",
       "      <td>0</td>\n",
       "      <td>0</td>\n",
       "      <td>1</td>\n",
       "      <td>0</td>\n",
       "      <td>Alfonso Arau</td>\n",
       "      <td>Comedy,Crime,Fantasy</td>\n",
       "      <td>United States</td>\n",
       "      <td>English</td>\n",
       "      <td>95.0</td>\n",
       "    </tr>\n",
       "    <tr>\n",
       "      <th>10340</th>\n",
       "      <td>10341</td>\n",
       "      <td>Just a Little Chemistry</td>\n",
       "      <td>2015</td>\n",
       "      <td>18+</td>\n",
       "      <td>5.4</td>\n",
       "      <td>NaN</td>\n",
       "      <td>0</td>\n",
       "      <td>0</td>\n",
       "      <td>1</td>\n",
       "      <td>0</td>\n",
       "      <td>Alfonso Albacete</td>\n",
       "      <td>Comedy,Romance</td>\n",
       "      <td>Spain</td>\n",
       "      <td>Spanish</td>\n",
       "      <td>111.0</td>\n",
       "    </tr>\n",
       "    <tr>\n",
       "      <th>14764</th>\n",
       "      <td>14765</td>\n",
       "      <td>Testa di sbarco per otto implacabili</td>\n",
       "      <td>1968</td>\n",
       "      <td>NaN</td>\n",
       "      <td>5.0</td>\n",
       "      <td>NaN</td>\n",
       "      <td>0</td>\n",
       "      <td>0</td>\n",
       "      <td>1</td>\n",
       "      <td>0</td>\n",
       "      <td>Alfonso Brescia</td>\n",
       "      <td>Drama,War</td>\n",
       "      <td>Italy,France</td>\n",
       "      <td>Italian,French,German,English</td>\n",
       "      <td>89.0</td>\n",
       "    </tr>\n",
       "  </tbody>\n",
       "</table>\n",
       "</div>"
      ],
      "text/plain": [
       "          ID                                 Title  Year  Age  IMDb  \\\n",
       "76        77                   Y Tu MamÃ¡ TambiÃ©n  2001  18+   7.6   \n",
       "910      911                   SÃ³lo con tu pareja  1992  NaN   6.9   \n",
       "2364    2365                      The (Silent) War  2019  18+   5.6   \n",
       "2885    2886                   Acapulco la vida va  2017  NaN   5.4   \n",
       "3222    3223           Pocoyo and the Space Circus  2008  all   5.9   \n",
       "3474    3475     Pocoyo Halloween: Space Halloween  2015  NaN   NaN   \n",
       "9452    9453                 Picking Up the Pieces  2000  18+   4.8   \n",
       "10340  10341               Just a Little Chemistry  2015  18+   5.4   \n",
       "14764  14765  Testa di sbarco per otto implacabili  1968  NaN   5.0   \n",
       "\n",
       "      Rotten Tomatoes  Netflix  Hulu  Prime Video  Disney+  \\\n",
       "76                92%        1     0            0        0   \n",
       "910               67%        1     0            1        0   \n",
       "2364              56%        1     0            0        0   \n",
       "2885              NaN        1     0            0        0   \n",
       "3222              NaN        1     0            0        0   \n",
       "3474              NaN        1     0            0        0   \n",
       "9452              NaN        0     0            1        0   \n",
       "10340             NaN        0     0            1        0   \n",
       "14764             NaN        0     0            1        0   \n",
       "\n",
       "                        Directors                Genres        Country  \\\n",
       "76                Alfonso CuarÃ³n                 Drama         Mexico   \n",
       "910               Alfonso CuarÃ³n        Comedy,Romance         Mexico   \n",
       "2364   Alfonso CortÃ©s-Cavanillas          Action,Drama          Spain   \n",
       "2885     Alfonso Serrano Maturino          Comedy,Drama         Mexico   \n",
       "3222            Alfonso Rodriguez       Animation,Short          Spain   \n",
       "3474            Alfonso Rodriguez       Animation,Short  United States   \n",
       "9452                 Alfonso Arau  Comedy,Crime,Fantasy  United States   \n",
       "10340            Alfonso Albacete        Comedy,Romance          Spain   \n",
       "14764             Alfonso Brescia             Drama,War   Italy,France   \n",
       "\n",
       "                             Language  Runtime  \n",
       "76                            Spanish    106.0  \n",
       "910    Spanish,English,Japanese,Latin     94.0  \n",
       "2364                          Spanish    121.0  \n",
       "2885                          Spanish     89.0  \n",
       "3222                  English,Spanish     24.0  \n",
       "3474                          English     39.0  \n",
       "9452                          English     95.0  \n",
       "10340                         Spanish    111.0  \n",
       "14764   Italian,French,German,English     89.0  "
      ]
     },
     "execution_count": 32,
     "metadata": {},
     "output_type": "execute_result"
    }
   ],
   "source": [
    "filtered_df[filtered_df.Directors.str.contains('Alfonso')]"
   ]
  },
  {
   "cell_type": "markdown",
   "metadata": {},
   "source": [
    "### Replacing special characters"
   ]
  },
  {
   "cell_type": "code",
   "execution_count": 33,
   "metadata": {},
   "outputs": [],
   "source": [
    "# Replace special characters in Title by vowel MOVIES\n",
    "\n",
    "\n",
    "filtered_df['Title'] = filtered_df['Title'].str.replace('\\Ã¡', 'á')\n",
    "filtered_df['Title'] = filtered_df['Title'].str.replace('\\Ã©', 'é')\n",
    "filtered_df['Title'] = filtered_df['Title'].str.replace('\\Ã', 'í')\n",
    "filtered_df['Title'] = filtered_df['Title'].str.replace('\\Ã³', 'ó')\n",
    "filtered_df['Title'] = filtered_df['Title'].str.replace('\\íº:', 'ú')\n",
    "filtered_df['Title'] = filtered_df['Title'].str.replace('\\í³', 'ó')\n",
    "\n",
    "# Replace special caracters in Title\n",
    "\n",
    "filtered_df['Title'] = filtered_df[\"Title\"].str.replace(\"\\Ä›\",\"ě\")\n",
    "filtered_df['Title'] = filtered_df[\"Title\"].str.replace(\"\\Å™\",\"ř\")\n",
    "filtered_df['Title'] = filtered_df[\"Title\"].str.replace(\"\\Ã¯\",\"ï\")\n",
    "filtered_df['Title'] = filtered_df[\"Title\"].str.replace(\"\\Ã¤\",\"ä\")\n",
    "filtered_df['Title'] = filtered_df[\"Title\"].str.replace(\"\\Ã¥\",\"å\")\n",
    "filtered_df['Title'] = filtered_df[\"Title\"].str.replace(\"\\Ãº\",\"ú\")\n",
    "filtered_df['Title'] = filtered_df[\"Title\"].str.replace(\"\\Ã«\",\"ë\")\n",
    "filtered_df['Title'] = filtered_df[\"Title\"].str.replace(\"\\Ã§\",\"ç\")\n",
    "filtered_df['Title'] = filtered_df[\"Title\"].str.replace(\"\\Ã•\",\"Õ\")\n",
    "filtered_df['Title'] = filtered_df[\"Title\"].str.replace(\"\\Ã´\",\"ō\")\n",
    "filtered_df['Title'] = filtered_df[\"Title\"].str.replace(\"\\Ã£\",\"ã\")\n",
    "filtered_df['Title'] = filtered_df[\"Title\"].str.replace(\"\\Ã‰\",\"É\")\n",
    "filtered_df['Title'] = filtered_df[\"Title\"].str.replace(\"\\Ã¨\",\"è\")\n",
    "filtered_df['Title'] = filtered_df[\"Title\"].str.replace(\"\\Ã¦\",\"æ\")\n",
    "filtered_df['Title'] = filtered_df[\"Title\"].str.replace(\"\\Ã¸\",\"ø\")\n",
    "filtered_df['Title'] = filtered_df[\"Title\"].str.replace(\"\\Ã”\",\"Ô\")\n",
    "filtered_df['Title'] = filtered_df[\"Title\"].str.replace(\"\\Ã\",\"Á\")\n",
    "filtered_df['Title'] = filtered_df[\"Title\"].str.replace(\"\\Ã½\",\"ý\")\n",
    "filtered_df['Title'] = filtered_df[\"Title\"].str.replace(\"\\Ã°\",\"ð\")\n",
    "filtered_df['Title'] = filtered_df[\"Title\"].str.replace(\"\\â€™\",\"'\")\n",
    "filtered_df['Title'] = filtered_df[\"Title\"].str.replace(\"\\Ã¢\",\" â\")\n",
    "filtered_df['Title'] = filtered_df[\"Title\"].str.replace(\"\\â€¦\",\"\")\n",
    "filtered_df['Title'] = filtered_df[\"Title\"].str.replace(\"\\â…“\",\"1/3\")\n",
    "filtered_df['Title'] = filtered_df[\"Title\"].str.replace(\"\\â€“\",\"-\")\n",
    "filtered_df['Title'] = filtered_df[\"Title\"].str.replace(\"\\Ã¼\",\" ü\")\n",
    "filtered_df['Title'] = filtered_df[\"Title\"].str.replace(\"\\Ã¶\",\" oe\")\n"
   ]
  },
  {
   "cell_type": "code",
   "execution_count": 34,
   "metadata": {},
   "outputs": [],
   "source": [
    "# Replace special caracters in Directors by vowel MOVIES\n",
    "\n",
    "filtered_df['Directors'] = filtered_df['Directors'].str.replace('\\Ã¡', 'á')\n",
    "filtered_df['Directors'] = filtered_df['Directors'].str.replace('\\Ã©', 'é')\n",
    "filtered_df['Directors'] = filtered_df['Directors'].str.replace('\\Ã', 'í')\n",
    "filtered_df['Directors'] = filtered_df['Directors'].str.replace('\\Ã³', 'ó')\n",
    "filtered_df['Directors'] = filtered_df['Directors'].str.replace('\\íº:', 'ú')\n",
    "filtered_df['Directors'] = filtered_df['Directors'].str.replace('\\í³', 'ó')\n",
    "\n",
    "# Replace special caracters in Directors MOVIES\n",
    "\n",
    "filtered_df['Directors'] = filtered_df[\"Directors\"].str.replace(\"\\Ä›\",\"ě\")\n",
    "filtered_df['Directors'] = filtered_df[\"Directors\"].str.replace(\"\\Å™\",\"ř\")\n",
    "filtered_df['Directors'] = filtered_df[\"Directors\"].str.replace(\"\\Ã¯\",\"ï\")\n",
    "filtered_df['Directors'] = filtered_df[\"Directors\"].str.replace(\"\\Ã¤\",\"ä\")\n",
    "filtered_df['Directors'] = filtered_df[\"Directors\"].str.replace(\"\\Ã¥\",\"å\")\n",
    "filtered_df['Directors'] = filtered_df[\"Directors\"].str.replace(\"\\Ãº\",\"ú\")\n",
    "filtered_df['Directors'] = filtered_df[\"Directors\"].str.replace(\"\\Ã«\",\"ë\")\n",
    "filtered_df['Directors'] = filtered_df[\"Directors\"].str.replace(\"\\Ã§\",\"ç\")\n",
    "filtered_df['Directors'] = filtered_df[\"Directors\"].str.replace(\"\\Ã•\",\"Õ\")\n",
    "filtered_df['Directors'] = filtered_df[\"Directors\"].str.replace(\"\\Ã´\",\"ō\")\n",
    "filtered_df['Directors'] = filtered_df[\"Directors\"].str.replace(\"\\Ã£\",\"ã\")\n",
    "filtered_df['Directors'] = filtered_df[\"Directors\"].str.replace(\"\\Ã‰\",\"É\")\n",
    "filtered_df['Directors'] = filtered_df[\"Directors\"].str.replace(\"\\Ã¨\",\"è\")\n",
    "filtered_df['Directors'] = filtered_df[\"Directors\"].str.replace(\"\\Ã¦\",\"æ\")\n",
    "filtered_df['Directors'] = filtered_df[\"Directors\"].str.replace(\"\\Ã¸\",\"ø\")\n",
    "filtered_df['Directors'] = filtered_df[\"Directors\"].str.replace(\"\\Ã”\",\"Ô\")\n",
    "filtered_df['Directors'] = filtered_df[\"Directors\"].str.replace(\"\\Ã\",\"Á\")\n",
    "filtered_df['Directors'] = filtered_df[\"Directors\"].str.replace(\"\\Ã½\",\"ý\")\n",
    "filtered_df['Directors'] = filtered_df[\"Directors\"].str.replace(\"\\Ã°\",\"ð\")\n",
    "filtered_df['Directors'] = filtered_df[\"Directors\"].str.replace(\"\\â€™\",\"'\")\n",
    "filtered_df['Directors'] = filtered_df[\"Directors\"].str.replace(\"\\Ã¢\",\" â\")\n",
    "filtered_df['Directors'] = filtered_df[\"Directors\"].str.replace(\"\\â€¦\",\"\")\n",
    "filtered_df['Directors'] = filtered_df[\"Directors\"].str.replace(\"\\â…“\",\"1/3\")\n",
    "filtered_df['Directors'] = filtered_df[\"Directors\"].str.replace(\"\\â€“\",\"-\")\n",
    "filtered_df['Directors'] = filtered_df[\"Directors\"].str.replace(\"\\Ã¼\",\" ü\")\n",
    "filtered_df['Directors'] = filtered_df[\"Directors\"].str.replace(\"\\Ã¶\",\" oe\")"
   ]
  },
  {
   "cell_type": "code",
   "execution_count": 35,
   "metadata": {},
   "outputs": [],
   "source": [
    "# Replace special caracters in Directors by vowel SERIES\n",
    "\n",
    "master_df2['Title'] = master_df2['Title'].str.replace('\\Ã¡', 'á')\n",
    "master_df2['Title'] = master_df2['Title'].str.replace('\\Ã©', 'é')\n",
    "master_df2['Title'] = master_df2['Title'].str.replace('\\Ã', 'í')\n",
    "master_df2['Title'] = master_df2['Title'].str.replace('\\Ã³', 'ó')\n",
    "master_df2['Title'] = master_df2['Title'].str.replace('\\íº:', 'ú')\n",
    "master_df2['Title'] = master_df2['Title'].str.replace('\\í³', 'ó')\n",
    "\n",
    "# Replace special caracters in Directors SERIES\n",
    "\n",
    "master_df2['Title'] = master_df2[\"Title\"].str.replace(\"\\Ä›\",\"ě\")\n",
    "master_df2['Title'] = master_df2[\"Title\"].str.replace(\"\\Å™\",\"ř\")\n",
    "master_df2['Title'] = master_df2[\"Title\"].str.replace(\"\\Ã¯\",\"ï\")\n",
    "master_df2['Title'] = master_df2[\"Title\"].str.replace(\"\\Ã¤\",\"ä\")\n",
    "master_df2['Title'] = master_df2[\"Title\"].str.replace(\"\\Ã¥\",\"å\")\n",
    "master_df2['Title'] = master_df2[\"Title\"].str.replace(\"\\Ãº\",\"ú\")\n",
    "master_df2['Title'] = master_df2[\"Title\"].str.replace(\"\\Ã«\",\"ë\")\n",
    "master_df2['Title'] = master_df2[\"Title\"].str.replace(\"\\Ã§\",\"ç\")\n",
    "master_df2['Title'] = master_df2[\"Title\"].str.replace(\"\\Ã•\",\"Õ\")\n",
    "master_df2['Title'] = master_df2[\"Title\"].str.replace(\"\\Ã´\",\"ō\")\n",
    "master_df2['Title'] = master_df2[\"Title\"].str.replace(\"\\Ã£\",\"ã\")\n",
    "master_df2['Title'] = master_df2[\"Title\"].str.replace(\"\\Ã‰\",\"É\")\n",
    "master_df2['Title'] = master_df2[\"Title\"].str.replace(\"\\Ã¨\",\"è\")\n",
    "master_df2['Title'] = master_df2[\"Title\"].str.replace(\"\\Ã¦\",\"æ\")\n",
    "master_df2['Title'] = master_df2[\"Title\"].str.replace(\"\\Ã¸\",\"ø\")\n",
    "master_df2['Title'] = master_df2[\"Title\"].str.replace(\"\\Ã”\",\"Ô\")\n",
    "master_df2['Title'] = master_df2[\"Title\"].str.replace(\"\\Ã\",\"Á\")\n",
    "master_df2['Title'] = master_df2[\"Title\"].str.replace(\"\\Ã½\",\"ý\")\n",
    "master_df2['Title'] = master_df2[\"Title\"].str.replace(\"\\Ã°\",\"ð\")\n",
    "master_df2['Title'] = master_df2[\"Title\"].str.replace(\"\\â€™\",\"'\")\n",
    "master_df2['Title'] = master_df2[\"Title\"].str.replace(\"\\Ã¢\",\" â\")\n",
    "master_df2['Title'] = master_df2[\"Title\"].str.replace(\"\\â€¦\",\"\")\n",
    "master_df2['Title'] = master_df2[\"Title\"].str.replace(\"\\â…“\",\"1/3\")\n",
    "master_df2['Title'] = master_df2[\"Title\"].str.replace(\"\\â€“\",\"-\")\n",
    "master_df2['Title'] = master_df2[\"Title\"].str.replace(\"\\Ã¼\",\" ü\")\n",
    "master_df2['Title'] = master_df2[\"Title\"].str.replace(\"\\Ã¶\",\" oe\")\n"
   ]
  },
  {
   "cell_type": "code",
   "execution_count": 36,
   "metadata": {},
   "outputs": [
    {
     "data": {
      "text/html": [
       "<div>\n",
       "<style scoped>\n",
       "    .dataframe tbody tr th:only-of-type {\n",
       "        vertical-align: middle;\n",
       "    }\n",
       "\n",
       "    .dataframe tbody tr th {\n",
       "        vertical-align: top;\n",
       "    }\n",
       "\n",
       "    .dataframe thead th {\n",
       "        text-align: right;\n",
       "    }\n",
       "</style>\n",
       "<table border=\"1\" class=\"dataframe\">\n",
       "  <thead>\n",
       "    <tr style=\"text-align: right;\">\n",
       "      <th></th>\n",
       "      <th>ID</th>\n",
       "      <th>Title</th>\n",
       "      <th>Year</th>\n",
       "      <th>Age</th>\n",
       "      <th>IMDb</th>\n",
       "      <th>Rotten Tomatoes</th>\n",
       "      <th>Netflix</th>\n",
       "      <th>Hulu</th>\n",
       "      <th>Prime Video</th>\n",
       "      <th>Disney+</th>\n",
       "      <th>Directors</th>\n",
       "      <th>Genres</th>\n",
       "      <th>Country</th>\n",
       "      <th>Language</th>\n",
       "      <th>Runtime</th>\n",
       "    </tr>\n",
       "  </thead>\n",
       "  <tbody>\n",
       "    <tr>\n",
       "      <th>76</th>\n",
       "      <td>77</td>\n",
       "      <td>Y Tu Mamá También</td>\n",
       "      <td>2001</td>\n",
       "      <td>18+</td>\n",
       "      <td>7.6</td>\n",
       "      <td>92%</td>\n",
       "      <td>1</td>\n",
       "      <td>0</td>\n",
       "      <td>0</td>\n",
       "      <td>0</td>\n",
       "      <td>Alfonso Cuarón</td>\n",
       "      <td>Drama</td>\n",
       "      <td>Mexico</td>\n",
       "      <td>Spanish</td>\n",
       "      <td>106.0</td>\n",
       "    </tr>\n",
       "    <tr>\n",
       "      <th>910</th>\n",
       "      <td>911</td>\n",
       "      <td>Sólo con tu pareja</td>\n",
       "      <td>1992</td>\n",
       "      <td>NaN</td>\n",
       "      <td>6.9</td>\n",
       "      <td>67%</td>\n",
       "      <td>1</td>\n",
       "      <td>0</td>\n",
       "      <td>1</td>\n",
       "      <td>0</td>\n",
       "      <td>Alfonso Cuarón</td>\n",
       "      <td>Comedy,Romance</td>\n",
       "      <td>Mexico</td>\n",
       "      <td>Spanish,English,Japanese,Latin</td>\n",
       "      <td>94.0</td>\n",
       "    </tr>\n",
       "    <tr>\n",
       "      <th>2364</th>\n",
       "      <td>2365</td>\n",
       "      <td>The (Silent) War</td>\n",
       "      <td>2019</td>\n",
       "      <td>18+</td>\n",
       "      <td>5.6</td>\n",
       "      <td>56%</td>\n",
       "      <td>1</td>\n",
       "      <td>0</td>\n",
       "      <td>0</td>\n",
       "      <td>0</td>\n",
       "      <td>Alfonso Cortés-Cavanillas</td>\n",
       "      <td>Action,Drama</td>\n",
       "      <td>Spain</td>\n",
       "      <td>Spanish</td>\n",
       "      <td>121.0</td>\n",
       "    </tr>\n",
       "    <tr>\n",
       "      <th>2885</th>\n",
       "      <td>2886</td>\n",
       "      <td>Acapulco la vida va</td>\n",
       "      <td>2017</td>\n",
       "      <td>NaN</td>\n",
       "      <td>5.4</td>\n",
       "      <td>NaN</td>\n",
       "      <td>1</td>\n",
       "      <td>0</td>\n",
       "      <td>0</td>\n",
       "      <td>0</td>\n",
       "      <td>Alfonso Serrano Maturino</td>\n",
       "      <td>Comedy,Drama</td>\n",
       "      <td>Mexico</td>\n",
       "      <td>Spanish</td>\n",
       "      <td>89.0</td>\n",
       "    </tr>\n",
       "    <tr>\n",
       "      <th>3222</th>\n",
       "      <td>3223</td>\n",
       "      <td>Pocoyo and the Space Circus</td>\n",
       "      <td>2008</td>\n",
       "      <td>all</td>\n",
       "      <td>5.9</td>\n",
       "      <td>NaN</td>\n",
       "      <td>1</td>\n",
       "      <td>0</td>\n",
       "      <td>0</td>\n",
       "      <td>0</td>\n",
       "      <td>Alfonso Rodriguez</td>\n",
       "      <td>Animation,Short</td>\n",
       "      <td>Spain</td>\n",
       "      <td>English,Spanish</td>\n",
       "      <td>24.0</td>\n",
       "    </tr>\n",
       "    <tr>\n",
       "      <th>3474</th>\n",
       "      <td>3475</td>\n",
       "      <td>Pocoyo Halloween: Space Halloween</td>\n",
       "      <td>2015</td>\n",
       "      <td>NaN</td>\n",
       "      <td>NaN</td>\n",
       "      <td>NaN</td>\n",
       "      <td>1</td>\n",
       "      <td>0</td>\n",
       "      <td>0</td>\n",
       "      <td>0</td>\n",
       "      <td>Alfonso Rodriguez</td>\n",
       "      <td>Animation,Short</td>\n",
       "      <td>United States</td>\n",
       "      <td>English</td>\n",
       "      <td>39.0</td>\n",
       "    </tr>\n",
       "    <tr>\n",
       "      <th>9452</th>\n",
       "      <td>9453</td>\n",
       "      <td>Picking Up the Pieces</td>\n",
       "      <td>2000</td>\n",
       "      <td>18+</td>\n",
       "      <td>4.8</td>\n",
       "      <td>NaN</td>\n",
       "      <td>0</td>\n",
       "      <td>0</td>\n",
       "      <td>1</td>\n",
       "      <td>0</td>\n",
       "      <td>Alfonso Arau</td>\n",
       "      <td>Comedy,Crime,Fantasy</td>\n",
       "      <td>United States</td>\n",
       "      <td>English</td>\n",
       "      <td>95.0</td>\n",
       "    </tr>\n",
       "    <tr>\n",
       "      <th>10340</th>\n",
       "      <td>10341</td>\n",
       "      <td>Just a Little Chemistry</td>\n",
       "      <td>2015</td>\n",
       "      <td>18+</td>\n",
       "      <td>5.4</td>\n",
       "      <td>NaN</td>\n",
       "      <td>0</td>\n",
       "      <td>0</td>\n",
       "      <td>1</td>\n",
       "      <td>0</td>\n",
       "      <td>Alfonso Albacete</td>\n",
       "      <td>Comedy,Romance</td>\n",
       "      <td>Spain</td>\n",
       "      <td>Spanish</td>\n",
       "      <td>111.0</td>\n",
       "    </tr>\n",
       "    <tr>\n",
       "      <th>14764</th>\n",
       "      <td>14765</td>\n",
       "      <td>Testa di sbarco per otto implacabili</td>\n",
       "      <td>1968</td>\n",
       "      <td>NaN</td>\n",
       "      <td>5.0</td>\n",
       "      <td>NaN</td>\n",
       "      <td>0</td>\n",
       "      <td>0</td>\n",
       "      <td>1</td>\n",
       "      <td>0</td>\n",
       "      <td>Alfonso Brescia</td>\n",
       "      <td>Drama,War</td>\n",
       "      <td>Italy,France</td>\n",
       "      <td>Italian,French,German,English</td>\n",
       "      <td>89.0</td>\n",
       "    </tr>\n",
       "  </tbody>\n",
       "</table>\n",
       "</div>"
      ],
      "text/plain": [
       "          ID                                 Title  Year  Age  IMDb  \\\n",
       "76        77                     Y Tu Mamá También  2001  18+   7.6   \n",
       "910      911                    Sólo con tu pareja  1992  NaN   6.9   \n",
       "2364    2365                      The (Silent) War  2019  18+   5.6   \n",
       "2885    2886                   Acapulco la vida va  2017  NaN   5.4   \n",
       "3222    3223           Pocoyo and the Space Circus  2008  all   5.9   \n",
       "3474    3475     Pocoyo Halloween: Space Halloween  2015  NaN   NaN   \n",
       "9452    9453                 Picking Up the Pieces  2000  18+   4.8   \n",
       "10340  10341               Just a Little Chemistry  2015  18+   5.4   \n",
       "14764  14765  Testa di sbarco per otto implacabili  1968  NaN   5.0   \n",
       "\n",
       "      Rotten Tomatoes  Netflix  Hulu  Prime Video  Disney+  \\\n",
       "76                92%        1     0            0        0   \n",
       "910               67%        1     0            1        0   \n",
       "2364              56%        1     0            0        0   \n",
       "2885              NaN        1     0            0        0   \n",
       "3222              NaN        1     0            0        0   \n",
       "3474              NaN        1     0            0        0   \n",
       "9452              NaN        0     0            1        0   \n",
       "10340             NaN        0     0            1        0   \n",
       "14764             NaN        0     0            1        0   \n",
       "\n",
       "                       Directors                Genres        Country  \\\n",
       "76                Alfonso Cuarón                 Drama         Mexico   \n",
       "910               Alfonso Cuarón        Comedy,Romance         Mexico   \n",
       "2364   Alfonso Cortés-Cavanillas          Action,Drama          Spain   \n",
       "2885    Alfonso Serrano Maturino          Comedy,Drama         Mexico   \n",
       "3222           Alfonso Rodriguez       Animation,Short          Spain   \n",
       "3474           Alfonso Rodriguez       Animation,Short  United States   \n",
       "9452                Alfonso Arau  Comedy,Crime,Fantasy  United States   \n",
       "10340           Alfonso Albacete        Comedy,Romance          Spain   \n",
       "14764            Alfonso Brescia             Drama,War   Italy,France   \n",
       "\n",
       "                             Language  Runtime  \n",
       "76                            Spanish    106.0  \n",
       "910    Spanish,English,Japanese,Latin     94.0  \n",
       "2364                          Spanish    121.0  \n",
       "2885                          Spanish     89.0  \n",
       "3222                  English,Spanish     24.0  \n",
       "3474                          English     39.0  \n",
       "9452                          English     95.0  \n",
       "10340                         Spanish    111.0  \n",
       "14764   Italian,French,German,English     89.0  "
      ]
     },
     "execution_count": 36,
     "metadata": {},
     "output_type": "execute_result"
    }
   ],
   "source": [
    "# Special character change validation\n",
    "\n",
    "filtered_df[filtered_df.Directors.str.contains('Alfonso')]"
   ]
  },
  {
   "cell_type": "code",
   "execution_count": 37,
   "metadata": {},
   "outputs": [],
   "source": [
    "# Drop No directors MOVIES\n",
    "no_directors_df = filtered_df.loc[filtered_df[\"Directors\"]!= \"No Director\"]\n"
   ]
  },
  {
   "cell_type": "code",
   "execution_count": 38,
   "metadata": {},
   "outputs": [
    {
     "data": {
      "text/html": [
       "<div>\n",
       "<style scoped>\n",
       "    .dataframe tbody tr th:only-of-type {\n",
       "        vertical-align: middle;\n",
       "    }\n",
       "\n",
       "    .dataframe tbody tr th {\n",
       "        vertical-align: top;\n",
       "    }\n",
       "\n",
       "    .dataframe thead th {\n",
       "        text-align: right;\n",
       "    }\n",
       "</style>\n",
       "<table border=\"1\" class=\"dataframe\">\n",
       "  <thead>\n",
       "    <tr style=\"text-align: right;\">\n",
       "      <th></th>\n",
       "      <th>ID</th>\n",
       "      <th>Title</th>\n",
       "      <th>Year</th>\n",
       "      <th>Age</th>\n",
       "      <th>IMDb</th>\n",
       "      <th>Rotten Tomatoes</th>\n",
       "      <th>Netflix</th>\n",
       "      <th>Hulu</th>\n",
       "      <th>Prime Video</th>\n",
       "      <th>Disney+</th>\n",
       "      <th>Directors</th>\n",
       "      <th>Genres</th>\n",
       "      <th>Country</th>\n",
       "      <th>Language</th>\n",
       "      <th>Runtime</th>\n",
       "    </tr>\n",
       "  </thead>\n",
       "  <tbody>\n",
       "  </tbody>\n",
       "</table>\n",
       "</div>"
      ],
      "text/plain": [
       "Empty DataFrame\n",
       "Columns: [ID, Title, Year, Age, IMDb, Rotten Tomatoes, Netflix, Hulu, Prime Video, Disney+, Directors, Genres, Country, Language, Runtime]\n",
       "Index: []"
      ]
     },
     "execution_count": 38,
     "metadata": {},
     "output_type": "execute_result"
    }
   ],
   "source": [
    "# No director validation MOVIES\n",
    "no_directors_df_1 = no_directors_df.loc[:, \"Directors\"]==\"No Director\"\n",
    "no_directors_df_1 = no_directors_df.loc[No_Director]\n",
    "no_directors_df_1.head()"
   ]
  },
  {
   "cell_type": "markdown",
   "metadata": {},
   "source": [
    "### Counting Titles by Platform for MOVIES & SERIES"
   ]
  },
  {
   "cell_type": "code",
   "execution_count": 39,
   "metadata": {},
   "outputs": [
    {
     "name": "stdout",
     "output_type": "stream",
     "text": [
      "3255 874 11781 551\n",
      "{'Netflix Movies': 3255, 'Prime Video Movies': 11781, 'Hulu Movies': 874, 'Disney Movies': 551}\n"
     ]
    }
   ],
   "source": [
    "#Count movies by streaming platform MOVIES\n",
    "netflix = filtered_df.Netflix.sum()\n",
    "hulu = filtered_df.Hulu.sum()\n",
    "prime=filtered_df['Prime Video'].sum()\n",
    "disney = filtered_df['Disney+'].sum()\n",
    "print(netflix,hulu, prime, disney)\n",
    "streeming = {\"Netflix Movies\":netflix,\"Prime Video Movies\":prime,\"Hulu Movies\":hulu,\"Disney Movies\":disney}\n",
    "print (streeming)"
   ]
  },
  {
   "cell_type": "code",
   "execution_count": 40,
   "metadata": {},
   "outputs": [
    {
     "name": "stdout",
     "output_type": "stream",
     "text": [
      "1929 1750 2138 180\n",
      "{'Netflix Series': 1929, 'Prime Video Series': 2138, 'Hulu Series': 1750, 'Disney Series': 180}\n"
     ]
    }
   ],
   "source": [
    "#Count movies by streaming platform SERIES\n",
    "netflix_s = master_df2.Netflix.sum()\n",
    "hulu_s = master_df2.Hulu.sum()\n",
    "prime_s =master_df2['Prime Video'].sum()\n",
    "disney_s = master_df2['Disney+'].sum()\n",
    "print(netflix_s,hulu_s, prime_s, disney_s)\n",
    "streeming = {\"Netflix Series\":netflix_s,\"Prime Video Series\":prime_s,\"Hulu Series\":hulu_s,\"Disney Series\":disney_s}\n",
    "print (streeming)"
   ]
  },
  {
   "cell_type": "code",
   "execution_count": 41,
   "metadata": {},
   "outputs": [],
   "source": [
    "#Filter age classification by streaming platform\n",
    "#filtered_df.groupby(\"Age\").sum()"
   ]
  },
  {
   "cell_type": "code",
   "execution_count": 42,
   "metadata": {},
   "outputs": [],
   "source": [
    "#Fill no data on Age column\n",
    "#filtered_df[\"Age\"].fillna(\"No Data\", inplace = True)\n",
    "#filtered_df.head(2)"
   ]
  },
  {
   "cell_type": "code",
   "execution_count": 43,
   "metadata": {},
   "outputs": [],
   "source": [
    "#Filter age classification by streaming platform with no data on Age column \n",
    "#filtered_df.groupby(\"Age\").sum()"
   ]
  },
  {
   "cell_type": "markdown",
   "metadata": {},
   "source": [
    "### Identifying Exclusivity Titles for MOVIES & SERIES"
   ]
  },
  {
   "cell_type": "code",
   "execution_count": 44,
   "metadata": {},
   "outputs": [
    {
     "data": {
      "text/html": [
       "<div>\n",
       "<style scoped>\n",
       "    .dataframe tbody tr th:only-of-type {\n",
       "        vertical-align: middle;\n",
       "    }\n",
       "\n",
       "    .dataframe tbody tr th {\n",
       "        vertical-align: top;\n",
       "    }\n",
       "\n",
       "    .dataframe thead th {\n",
       "        text-align: right;\n",
       "    }\n",
       "</style>\n",
       "<table border=\"1\" class=\"dataframe\">\n",
       "  <thead>\n",
       "    <tr style=\"text-align: right;\">\n",
       "      <th></th>\n",
       "      <th>ID</th>\n",
       "      <th>Title</th>\n",
       "      <th>Year</th>\n",
       "      <th>Age</th>\n",
       "      <th>IMDb</th>\n",
       "      <th>Rotten Tomatoes</th>\n",
       "      <th>Netflix</th>\n",
       "      <th>Hulu</th>\n",
       "      <th>Prime Video</th>\n",
       "      <th>Disney+</th>\n",
       "      <th>Directors</th>\n",
       "      <th>Genres</th>\n",
       "      <th>Country</th>\n",
       "      <th>Language</th>\n",
       "      <th>Runtime</th>\n",
       "      <th>Exclusive</th>\n",
       "      <th>StreamPL</th>\n",
       "    </tr>\n",
       "  </thead>\n",
       "  <tbody>\n",
       "    <tr>\n",
       "      <th>0</th>\n",
       "      <td>1</td>\n",
       "      <td>Inception</td>\n",
       "      <td>2010</td>\n",
       "      <td>13+</td>\n",
       "      <td>8.8</td>\n",
       "      <td>87%</td>\n",
       "      <td>1</td>\n",
       "      <td>0</td>\n",
       "      <td>0</td>\n",
       "      <td>0</td>\n",
       "      <td>Christopher Nolan</td>\n",
       "      <td>Action,Adventure,Sci-Fi,Thriller</td>\n",
       "      <td>United States,United Kingdom</td>\n",
       "      <td>English,Japanese,French</td>\n",
       "      <td>148.0</td>\n",
       "      <td></td>\n",
       "      <td></td>\n",
       "    </tr>\n",
       "    <tr>\n",
       "      <th>1</th>\n",
       "      <td>2</td>\n",
       "      <td>The Matrix</td>\n",
       "      <td>1999</td>\n",
       "      <td>18+</td>\n",
       "      <td>8.7</td>\n",
       "      <td>87%</td>\n",
       "      <td>1</td>\n",
       "      <td>0</td>\n",
       "      <td>0</td>\n",
       "      <td>0</td>\n",
       "      <td>Lana Wachowski,Lilly Wachowski</td>\n",
       "      <td>Action,Sci-Fi</td>\n",
       "      <td>United States</td>\n",
       "      <td>English</td>\n",
       "      <td>136.0</td>\n",
       "      <td></td>\n",
       "      <td></td>\n",
       "    </tr>\n",
       "  </tbody>\n",
       "</table>\n",
       "</div>"
      ],
      "text/plain": [
       "   ID       Title  Year  Age  IMDb Rotten Tomatoes  Netflix  Hulu  \\\n",
       "0   1   Inception  2010  13+   8.8             87%        1     0   \n",
       "1   2  The Matrix  1999  18+   8.7             87%        1     0   \n",
       "\n",
       "   Prime Video  Disney+                       Directors  \\\n",
       "0            0        0               Christopher Nolan   \n",
       "1            0        0  Lana Wachowski,Lilly Wachowski   \n",
       "\n",
       "                             Genres                       Country  \\\n",
       "0  Action,Adventure,Sci-Fi,Thriller  United States,United Kingdom   \n",
       "1                     Action,Sci-Fi                 United States   \n",
       "\n",
       "                  Language  Runtime Exclusive StreamPL  \n",
       "0  English,Japanese,French    148.0                     \n",
       "1                  English    136.0                     "
      ]
     },
     "execution_count": 44,
     "metadata": {},
     "output_type": "execute_result"
    }
   ],
   "source": [
    "#Getting exclusive movies by streaming platform MOVIES\n",
    "filtered_df[\"Exclusive\"]=\"\"\n",
    "filtered_df[\"StreamPL\" ]=\"\"\n",
    "filtered_df.head(2)\n"
   ]
  },
  {
   "cell_type": "code",
   "execution_count": 45,
   "metadata": {},
   "outputs": [
    {
     "data": {
      "text/html": [
       "<div>\n",
       "<style scoped>\n",
       "    .dataframe tbody tr th:only-of-type {\n",
       "        vertical-align: middle;\n",
       "    }\n",
       "\n",
       "    .dataframe tbody tr th {\n",
       "        vertical-align: top;\n",
       "    }\n",
       "\n",
       "    .dataframe thead th {\n",
       "        text-align: right;\n",
       "    }\n",
       "</style>\n",
       "<table border=\"1\" class=\"dataframe\">\n",
       "  <thead>\n",
       "    <tr style=\"text-align: right;\">\n",
       "      <th></th>\n",
       "      <th>Unnamed: 0</th>\n",
       "      <th>Title</th>\n",
       "      <th>Year</th>\n",
       "      <th>Age</th>\n",
       "      <th>IMDb</th>\n",
       "      <th>Rotten Tomatoes</th>\n",
       "      <th>Netflix</th>\n",
       "      <th>Hulu</th>\n",
       "      <th>Prime Video</th>\n",
       "      <th>Disney+</th>\n",
       "      <th>type</th>\n",
       "      <th>Exclusive</th>\n",
       "      <th>StreamPL</th>\n",
       "    </tr>\n",
       "  </thead>\n",
       "  <tbody>\n",
       "    <tr>\n",
       "      <th>0</th>\n",
       "      <td>0</td>\n",
       "      <td>Breaking Bad</td>\n",
       "      <td>2008</td>\n",
       "      <td>18+</td>\n",
       "      <td>9.5</td>\n",
       "      <td>96%</td>\n",
       "      <td>1</td>\n",
       "      <td>0</td>\n",
       "      <td>0</td>\n",
       "      <td>0</td>\n",
       "      <td>1</td>\n",
       "      <td></td>\n",
       "      <td></td>\n",
       "    </tr>\n",
       "    <tr>\n",
       "      <th>1</th>\n",
       "      <td>1</td>\n",
       "      <td>Stranger Things</td>\n",
       "      <td>2016</td>\n",
       "      <td>16+</td>\n",
       "      <td>8.8</td>\n",
       "      <td>93%</td>\n",
       "      <td>1</td>\n",
       "      <td>0</td>\n",
       "      <td>0</td>\n",
       "      <td>0</td>\n",
       "      <td>1</td>\n",
       "      <td></td>\n",
       "      <td></td>\n",
       "    </tr>\n",
       "  </tbody>\n",
       "</table>\n",
       "</div>"
      ],
      "text/plain": [
       "   Unnamed: 0            Title  Year  Age  IMDb Rotten Tomatoes  Netflix  \\\n",
       "0           0     Breaking Bad  2008  18+   9.5             96%        1   \n",
       "1           1  Stranger Things  2016  16+   8.8             93%        1   \n",
       "\n",
       "   Hulu  Prime Video  Disney+  type Exclusive StreamPL  \n",
       "0     0            0        0     1                     \n",
       "1     0            0        0     1                     "
      ]
     },
     "execution_count": 45,
     "metadata": {},
     "output_type": "execute_result"
    }
   ],
   "source": [
    "#Getting exclusive series by streaming platform SERIES\n",
    "master_df2[\"Exclusive\"]=\"\"\n",
    "master_df2[\"StreamPL\" ]=\"\"\n",
    "master_df2.head(2)"
   ]
  },
  {
   "cell_type": "code",
   "execution_count": 46,
   "metadata": {},
   "outputs": [],
   "source": [
    "#Iterating through esclusive movies by streaming platform\n",
    "for i in filtered_df.iterrows():\n",
    "   filtered_df[\"Exclusive\"]=filtered_df[\"Netflix\" ]+filtered_df[\"Hulu\" ]+filtered_df[\"Prime Video\" ]+filtered_df[\"Disney+\" ]"
   ]
  },
  {
   "cell_type": "code",
   "execution_count": 47,
   "metadata": {},
   "outputs": [
    {
     "data": {
      "text/html": [
       "<div>\n",
       "<style scoped>\n",
       "    .dataframe tbody tr th:only-of-type {\n",
       "        vertical-align: middle;\n",
       "    }\n",
       "\n",
       "    .dataframe tbody tr th {\n",
       "        vertical-align: top;\n",
       "    }\n",
       "\n",
       "    .dataframe thead th {\n",
       "        text-align: right;\n",
       "    }\n",
       "</style>\n",
       "<table border=\"1\" class=\"dataframe\">\n",
       "  <thead>\n",
       "    <tr style=\"text-align: right;\">\n",
       "      <th></th>\n",
       "      <th>ID</th>\n",
       "      <th>Title</th>\n",
       "      <th>Year</th>\n",
       "      <th>Age</th>\n",
       "      <th>IMDb</th>\n",
       "      <th>Rotten Tomatoes</th>\n",
       "      <th>Netflix</th>\n",
       "      <th>Hulu</th>\n",
       "      <th>Prime Video</th>\n",
       "      <th>Disney+</th>\n",
       "      <th>Directors</th>\n",
       "      <th>Genres</th>\n",
       "      <th>Country</th>\n",
       "      <th>Language</th>\n",
       "      <th>Runtime</th>\n",
       "      <th>Exclusive</th>\n",
       "      <th>StreamPL</th>\n",
       "    </tr>\n",
       "  </thead>\n",
       "  <tbody>\n",
       "    <tr>\n",
       "      <th>0</th>\n",
       "      <td>1</td>\n",
       "      <td>Inception</td>\n",
       "      <td>2010</td>\n",
       "      <td>13+</td>\n",
       "      <td>8.8</td>\n",
       "      <td>87%</td>\n",
       "      <td>1</td>\n",
       "      <td>0</td>\n",
       "      <td>0</td>\n",
       "      <td>0</td>\n",
       "      <td>Christopher Nolan</td>\n",
       "      <td>Action,Adventure,Sci-Fi,Thriller</td>\n",
       "      <td>United States,United Kingdom</td>\n",
       "      <td>English,Japanese,French</td>\n",
       "      <td>148.0</td>\n",
       "      <td>1</td>\n",
       "      <td></td>\n",
       "    </tr>\n",
       "    <tr>\n",
       "      <th>1</th>\n",
       "      <td>2</td>\n",
       "      <td>The Matrix</td>\n",
       "      <td>1999</td>\n",
       "      <td>18+</td>\n",
       "      <td>8.7</td>\n",
       "      <td>87%</td>\n",
       "      <td>1</td>\n",
       "      <td>0</td>\n",
       "      <td>0</td>\n",
       "      <td>0</td>\n",
       "      <td>Lana Wachowski,Lilly Wachowski</td>\n",
       "      <td>Action,Sci-Fi</td>\n",
       "      <td>United States</td>\n",
       "      <td>English</td>\n",
       "      <td>136.0</td>\n",
       "      <td>1</td>\n",
       "      <td></td>\n",
       "    </tr>\n",
       "  </tbody>\n",
       "</table>\n",
       "</div>"
      ],
      "text/plain": [
       "   ID       Title  Year  Age  IMDb Rotten Tomatoes  Netflix  Hulu  \\\n",
       "0   1   Inception  2010  13+   8.8             87%        1     0   \n",
       "1   2  The Matrix  1999  18+   8.7             87%        1     0   \n",
       "\n",
       "   Prime Video  Disney+                       Directors  \\\n",
       "0            0        0               Christopher Nolan   \n",
       "1            0        0  Lana Wachowski,Lilly Wachowski   \n",
       "\n",
       "                             Genres                       Country  \\\n",
       "0  Action,Adventure,Sci-Fi,Thriller  United States,United Kingdom   \n",
       "1                     Action,Sci-Fi                 United States   \n",
       "\n",
       "                  Language  Runtime  Exclusive StreamPL  \n",
       "0  English,Japanese,French    148.0          1           \n",
       "1                  English    136.0          1           "
      ]
     },
     "execution_count": 47,
     "metadata": {},
     "output_type": "execute_result"
    }
   ],
   "source": [
    "filtered_df.head(2)"
   ]
  },
  {
   "cell_type": "code",
   "execution_count": 48,
   "metadata": {},
   "outputs": [],
   "source": [
    "#Iterating through esclusive series by streaming platform\n",
    "for j in master_df2.iterrows():\n",
    "   master_df2[\"Exclusive\"]=master_df2[\"Netflix\" ]+master_df2[\"Hulu\" ]+master_df2[\"Prime Video\" ]+master_df2[\"Disney+\" ]\n",
    "    "
   ]
  },
  {
   "cell_type": "code",
   "execution_count": 49,
   "metadata": {
    "scrolled": true
   },
   "outputs": [
    {
     "data": {
      "text/html": [
       "<div>\n",
       "<style scoped>\n",
       "    .dataframe tbody tr th:only-of-type {\n",
       "        vertical-align: middle;\n",
       "    }\n",
       "\n",
       "    .dataframe tbody tr th {\n",
       "        vertical-align: top;\n",
       "    }\n",
       "\n",
       "    .dataframe thead th {\n",
       "        text-align: right;\n",
       "    }\n",
       "</style>\n",
       "<table border=\"1\" class=\"dataframe\">\n",
       "  <thead>\n",
       "    <tr style=\"text-align: right;\">\n",
       "      <th></th>\n",
       "      <th>Unnamed: 0</th>\n",
       "      <th>Title</th>\n",
       "      <th>Year</th>\n",
       "      <th>Age</th>\n",
       "      <th>IMDb</th>\n",
       "      <th>Rotten Tomatoes</th>\n",
       "      <th>Netflix</th>\n",
       "      <th>Hulu</th>\n",
       "      <th>Prime Video</th>\n",
       "      <th>Disney+</th>\n",
       "      <th>type</th>\n",
       "      <th>Exclusive</th>\n",
       "      <th>StreamPL</th>\n",
       "    </tr>\n",
       "  </thead>\n",
       "  <tbody>\n",
       "    <tr>\n",
       "      <th>0</th>\n",
       "      <td>0</td>\n",
       "      <td>Breaking Bad</td>\n",
       "      <td>2008</td>\n",
       "      <td>18+</td>\n",
       "      <td>9.5</td>\n",
       "      <td>96%</td>\n",
       "      <td>1</td>\n",
       "      <td>0</td>\n",
       "      <td>0</td>\n",
       "      <td>0</td>\n",
       "      <td>1</td>\n",
       "      <td>1</td>\n",
       "      <td></td>\n",
       "    </tr>\n",
       "    <tr>\n",
       "      <th>1</th>\n",
       "      <td>1</td>\n",
       "      <td>Stranger Things</td>\n",
       "      <td>2016</td>\n",
       "      <td>16+</td>\n",
       "      <td>8.8</td>\n",
       "      <td>93%</td>\n",
       "      <td>1</td>\n",
       "      <td>0</td>\n",
       "      <td>0</td>\n",
       "      <td>0</td>\n",
       "      <td>1</td>\n",
       "      <td>1</td>\n",
       "      <td></td>\n",
       "    </tr>\n",
       "  </tbody>\n",
       "</table>\n",
       "</div>"
      ],
      "text/plain": [
       "   Unnamed: 0            Title  Year  Age  IMDb Rotten Tomatoes  Netflix  \\\n",
       "0           0     Breaking Bad  2008  18+   9.5             96%        1   \n",
       "1           1  Stranger Things  2016  16+   8.8             93%        1   \n",
       "\n",
       "   Hulu  Prime Video  Disney+  type  Exclusive StreamPL  \n",
       "0     0            0        0     1          1           \n",
       "1     0            0        0     1          1           "
      ]
     },
     "execution_count": 49,
     "metadata": {},
     "output_type": "execute_result"
    }
   ],
   "source": [
    "master_df2.head(2)"
   ]
  },
  {
   "cell_type": "markdown",
   "metadata": {},
   "source": [
    "### Preparing Dataframes to JOIN by Foreign Key base on Stream ID"
   ]
  },
  {
   "cell_type": "code",
   "execution_count": 51,
   "metadata": {},
   "outputs": [],
   "source": [
    "#Filtering exclusive movies by 1, this means that the movie is exclusive to an specific platform MOVIES\n",
    "Exclusive_df= filtered_df.loc[filtered_df[\"Exclusive\"]== 1]\n",
    "ExclusiveSeries_df= master_df2.loc[master_df2[\"Exclusive\"]== 1]"
   ]
  },
  {
   "cell_type": "code",
   "execution_count": 52,
   "metadata": {},
   "outputs": [
    {
     "name": "stderr",
     "output_type": "stream",
     "text": [
      "c:\\users\\pao\\documents\\bootcamp_pevp\\bootcamp\\lib\\site-packages\\pandas\\core\\indexing.py:1765: SettingWithCopyWarning: \n",
      "A value is trying to be set on a copy of a slice from a DataFrame.\n",
      "Try using .loc[row_indexer,col_indexer] = value instead\n",
      "\n",
      "See the caveats in the documentation: https://pandas.pydata.org/pandas-docs/stable/user_guide/indexing.html#returning-a-view-versus-a-copy\n",
      "  isetter(loc, value)\n",
      "c:\\users\\pao\\documents\\bootcamp_pevp\\bootcamp\\lib\\site-packages\\pandas\\core\\indexing.py:1765: SettingWithCopyWarning: \n",
      "A value is trying to be set on a copy of a slice from a DataFrame.\n",
      "Try using .loc[row_indexer,col_indexer] = value instead\n",
      "\n",
      "See the caveats in the documentation: https://pandas.pydata.org/pandas-docs/stable/user_guide/indexing.html#returning-a-view-versus-a-copy\n",
      "  isetter(loc, value)\n",
      "c:\\users\\pao\\documents\\bootcamp_pevp\\bootcamp\\lib\\site-packages\\pandas\\core\\indexing.py:1765: SettingWithCopyWarning: \n",
      "A value is trying to be set on a copy of a slice from a DataFrame.\n",
      "Try using .loc[row_indexer,col_indexer] = value instead\n",
      "\n",
      "See the caveats in the documentation: https://pandas.pydata.org/pandas-docs/stable/user_guide/indexing.html#returning-a-view-versus-a-copy\n",
      "  isetter(loc, value)\n",
      "c:\\users\\pao\\documents\\bootcamp_pevp\\bootcamp\\lib\\site-packages\\pandas\\core\\indexing.py:1765: SettingWithCopyWarning: \n",
      "A value is trying to be set on a copy of a slice from a DataFrame.\n",
      "Try using .loc[row_indexer,col_indexer] = value instead\n",
      "\n",
      "See the caveats in the documentation: https://pandas.pydata.org/pandas-docs/stable/user_guide/indexing.html#returning-a-view-versus-a-copy\n",
      "  isetter(loc, value)\n"
     ]
    }
   ],
   "source": [
    "#Exlusive movies by platform MOVIES_df\n",
    "Exclusive_df.loc[Exclusive_df['Netflix']==1, 'StreamPL'] = 'N'\n",
    "Exclusive_df.loc[Exclusive_df['Prime Video']==1, 'StreamPL'] = 'P'\n",
    "Exclusive_df.loc[Exclusive_df['Hulu']==1, 'StreamPL'] = 'H'\n",
    "Exclusive_df.loc[Exclusive_df['Disney+']==1, 'StreamPL'] = 'D'"
   ]
  },
  {
   "cell_type": "code",
   "execution_count": 53,
   "metadata": {},
   "outputs": [
    {
     "data": {
      "text/html": [
       "<div>\n",
       "<style scoped>\n",
       "    .dataframe tbody tr th:only-of-type {\n",
       "        vertical-align: middle;\n",
       "    }\n",
       "\n",
       "    .dataframe tbody tr th {\n",
       "        vertical-align: top;\n",
       "    }\n",
       "\n",
       "    .dataframe thead th {\n",
       "        text-align: right;\n",
       "    }\n",
       "</style>\n",
       "<table border=\"1\" class=\"dataframe\">\n",
       "  <thead>\n",
       "    <tr style=\"text-align: right;\">\n",
       "      <th></th>\n",
       "      <th>ID</th>\n",
       "      <th>Title</th>\n",
       "      <th>Year</th>\n",
       "      <th>Age</th>\n",
       "      <th>IMDb</th>\n",
       "      <th>Rotten Tomatoes</th>\n",
       "      <th>Netflix</th>\n",
       "      <th>Hulu</th>\n",
       "      <th>Prime Video</th>\n",
       "      <th>Disney+</th>\n",
       "      <th>Directors</th>\n",
       "      <th>Genres</th>\n",
       "      <th>Country</th>\n",
       "      <th>Language</th>\n",
       "      <th>Runtime</th>\n",
       "      <th>Exclusive</th>\n",
       "      <th>StreamPL</th>\n",
       "    </tr>\n",
       "  </thead>\n",
       "  <tbody>\n",
       "    <tr>\n",
       "      <th>0</th>\n",
       "      <td>1</td>\n",
       "      <td>Inception</td>\n",
       "      <td>2010</td>\n",
       "      <td>13+</td>\n",
       "      <td>8.8</td>\n",
       "      <td>87%</td>\n",
       "      <td>1</td>\n",
       "      <td>0</td>\n",
       "      <td>0</td>\n",
       "      <td>0</td>\n",
       "      <td>Christopher Nolan</td>\n",
       "      <td>Action,Adventure,Sci-Fi,Thriller</td>\n",
       "      <td>United States,United Kingdom</td>\n",
       "      <td>English,Japanese,French</td>\n",
       "      <td>148.0</td>\n",
       "      <td>1</td>\n",
       "      <td>N</td>\n",
       "    </tr>\n",
       "    <tr>\n",
       "      <th>1</th>\n",
       "      <td>2</td>\n",
       "      <td>The Matrix</td>\n",
       "      <td>1999</td>\n",
       "      <td>18+</td>\n",
       "      <td>8.7</td>\n",
       "      <td>87%</td>\n",
       "      <td>1</td>\n",
       "      <td>0</td>\n",
       "      <td>0</td>\n",
       "      <td>0</td>\n",
       "      <td>Lana Wachowski,Lilly Wachowski</td>\n",
       "      <td>Action,Sci-Fi</td>\n",
       "      <td>United States</td>\n",
       "      <td>English</td>\n",
       "      <td>136.0</td>\n",
       "      <td>1</td>\n",
       "      <td>N</td>\n",
       "    </tr>\n",
       "    <tr>\n",
       "      <th>2</th>\n",
       "      <td>3</td>\n",
       "      <td>Avengers: Infinity War</td>\n",
       "      <td>2018</td>\n",
       "      <td>13+</td>\n",
       "      <td>8.5</td>\n",
       "      <td>84%</td>\n",
       "      <td>1</td>\n",
       "      <td>0</td>\n",
       "      <td>0</td>\n",
       "      <td>0</td>\n",
       "      <td>Anthony Russo,Joe Russo</td>\n",
       "      <td>Action,Adventure,Sci-Fi</td>\n",
       "      <td>United States</td>\n",
       "      <td>English</td>\n",
       "      <td>149.0</td>\n",
       "      <td>1</td>\n",
       "      <td>N</td>\n",
       "    </tr>\n",
       "    <tr>\n",
       "      <th>3</th>\n",
       "      <td>4</td>\n",
       "      <td>Back to the Future</td>\n",
       "      <td>1985</td>\n",
       "      <td>7+</td>\n",
       "      <td>8.5</td>\n",
       "      <td>96%</td>\n",
       "      <td>1</td>\n",
       "      <td>0</td>\n",
       "      <td>0</td>\n",
       "      <td>0</td>\n",
       "      <td>Robert Zemeckis</td>\n",
       "      <td>Adventure,Comedy,Sci-Fi</td>\n",
       "      <td>United States</td>\n",
       "      <td>English</td>\n",
       "      <td>116.0</td>\n",
       "      <td>1</td>\n",
       "      <td>N</td>\n",
       "    </tr>\n",
       "    <tr>\n",
       "      <th>5</th>\n",
       "      <td>6</td>\n",
       "      <td>Spider-Man: Into the Spider-Verse</td>\n",
       "      <td>2018</td>\n",
       "      <td>7+</td>\n",
       "      <td>8.4</td>\n",
       "      <td>97%</td>\n",
       "      <td>1</td>\n",
       "      <td>0</td>\n",
       "      <td>0</td>\n",
       "      <td>0</td>\n",
       "      <td>Bob Persichetti,Peter Ramsey,Rodney Rothman</td>\n",
       "      <td>Animation,Action,Adventure,Family,Sci-Fi</td>\n",
       "      <td>United States</td>\n",
       "      <td>English,Spanish</td>\n",
       "      <td>117.0</td>\n",
       "      <td>1</td>\n",
       "      <td>N</td>\n",
       "    </tr>\n",
       "    <tr>\n",
       "      <th>...</th>\n",
       "      <td>...</td>\n",
       "      <td>...</td>\n",
       "      <td>...</td>\n",
       "      <td>...</td>\n",
       "      <td>...</td>\n",
       "      <td>...</td>\n",
       "      <td>...</td>\n",
       "      <td>...</td>\n",
       "      <td>...</td>\n",
       "      <td>...</td>\n",
       "      <td>...</td>\n",
       "      <td>...</td>\n",
       "      <td>...</td>\n",
       "      <td>...</td>\n",
       "      <td>...</td>\n",
       "      <td>...</td>\n",
       "      <td>...</td>\n",
       "    </tr>\n",
       "    <tr>\n",
       "      <th>16511</th>\n",
       "      <td>16512</td>\n",
       "      <td>The Bears and I</td>\n",
       "      <td>1974</td>\n",
       "      <td>all</td>\n",
       "      <td>6.2</td>\n",
       "      <td>NaN</td>\n",
       "      <td>0</td>\n",
       "      <td>0</td>\n",
       "      <td>0</td>\n",
       "      <td>1</td>\n",
       "      <td>Bernard McEveety</td>\n",
       "      <td>Drama,Family</td>\n",
       "      <td>United States</td>\n",
       "      <td>English</td>\n",
       "      <td>89.0</td>\n",
       "      <td>1</td>\n",
       "      <td>D</td>\n",
       "    </tr>\n",
       "    <tr>\n",
       "      <th>16512</th>\n",
       "      <td>16513</td>\n",
       "      <td>Whispers: An Elephant's Tale</td>\n",
       "      <td>2000</td>\n",
       "      <td>all</td>\n",
       "      <td>5.0</td>\n",
       "      <td>NaN</td>\n",
       "      <td>0</td>\n",
       "      <td>0</td>\n",
       "      <td>0</td>\n",
       "      <td>1</td>\n",
       "      <td>Dereck Joubert</td>\n",
       "      <td>Adventure,Family</td>\n",
       "      <td>United States</td>\n",
       "      <td>English</td>\n",
       "      <td>72.0</td>\n",
       "      <td>1</td>\n",
       "      <td>D</td>\n",
       "    </tr>\n",
       "    <tr>\n",
       "      <th>16513</th>\n",
       "      <td>16514</td>\n",
       "      <td>The Ghosts of Buxley Hall</td>\n",
       "      <td>1980</td>\n",
       "      <td>NaN</td>\n",
       "      <td>6.2</td>\n",
       "      <td>NaN</td>\n",
       "      <td>0</td>\n",
       "      <td>0</td>\n",
       "      <td>0</td>\n",
       "      <td>1</td>\n",
       "      <td>Bruce Bilson</td>\n",
       "      <td>Comedy,Family,Fantasy,Horror</td>\n",
       "      <td>United States</td>\n",
       "      <td>English</td>\n",
       "      <td>120.0</td>\n",
       "      <td>1</td>\n",
       "      <td>D</td>\n",
       "    </tr>\n",
       "    <tr>\n",
       "      <th>16514</th>\n",
       "      <td>16515</td>\n",
       "      <td>The Poof Point</td>\n",
       "      <td>2001</td>\n",
       "      <td>7+</td>\n",
       "      <td>4.7</td>\n",
       "      <td>NaN</td>\n",
       "      <td>0</td>\n",
       "      <td>0</td>\n",
       "      <td>0</td>\n",
       "      <td>1</td>\n",
       "      <td>Neal Israel</td>\n",
       "      <td>Comedy,Family,Sci-Fi</td>\n",
       "      <td>United States</td>\n",
       "      <td>English</td>\n",
       "      <td>90.0</td>\n",
       "      <td>1</td>\n",
       "      <td>D</td>\n",
       "    </tr>\n",
       "    <tr>\n",
       "      <th>16517</th>\n",
       "      <td>16518</td>\n",
       "      <td>In Beaver Valley</td>\n",
       "      <td>1950</td>\n",
       "      <td>NaN</td>\n",
       "      <td>NaN</td>\n",
       "      <td>NaN</td>\n",
       "      <td>0</td>\n",
       "      <td>0</td>\n",
       "      <td>0</td>\n",
       "      <td>1</td>\n",
       "      <td>James Algar</td>\n",
       "      <td>Documentary,Short,Family</td>\n",
       "      <td>United States</td>\n",
       "      <td>English</td>\n",
       "      <td>32.0</td>\n",
       "      <td>1</td>\n",
       "      <td>D</td>\n",
       "    </tr>\n",
       "  </tbody>\n",
       "</table>\n",
       "<p>15237 rows × 17 columns</p>\n",
       "</div>"
      ],
      "text/plain": [
       "          ID                              Title  Year  Age  IMDb  \\\n",
       "0          1                          Inception  2010  13+   8.8   \n",
       "1          2                         The Matrix  1999  18+   8.7   \n",
       "2          3             Avengers: Infinity War  2018  13+   8.5   \n",
       "3          4                 Back to the Future  1985   7+   8.5   \n",
       "5          6  Spider-Man: Into the Spider-Verse  2018   7+   8.4   \n",
       "...      ...                                ...   ...  ...   ...   \n",
       "16511  16512                    The Bears and I  1974  all   6.2   \n",
       "16512  16513       Whispers: An Elephant's Tale  2000  all   5.0   \n",
       "16513  16514          The Ghosts of Buxley Hall  1980  NaN   6.2   \n",
       "16514  16515                     The Poof Point  2001   7+   4.7   \n",
       "16517  16518                   In Beaver Valley  1950  NaN   NaN   \n",
       "\n",
       "      Rotten Tomatoes  Netflix  Hulu  Prime Video  Disney+  \\\n",
       "0                 87%        1     0            0        0   \n",
       "1                 87%        1     0            0        0   \n",
       "2                 84%        1     0            0        0   \n",
       "3                 96%        1     0            0        0   \n",
       "5                 97%        1     0            0        0   \n",
       "...               ...      ...   ...          ...      ...   \n",
       "16511             NaN        0     0            0        1   \n",
       "16512             NaN        0     0            0        1   \n",
       "16513             NaN        0     0            0        1   \n",
       "16514             NaN        0     0            0        1   \n",
       "16517             NaN        0     0            0        1   \n",
       "\n",
       "                                         Directors  \\\n",
       "0                                Christopher Nolan   \n",
       "1                   Lana Wachowski,Lilly Wachowski   \n",
       "2                          Anthony Russo,Joe Russo   \n",
       "3                                  Robert Zemeckis   \n",
       "5      Bob Persichetti,Peter Ramsey,Rodney Rothman   \n",
       "...                                            ...   \n",
       "16511                             Bernard McEveety   \n",
       "16512                               Dereck Joubert   \n",
       "16513                                 Bruce Bilson   \n",
       "16514                                  Neal Israel   \n",
       "16517                                  James Algar   \n",
       "\n",
       "                                         Genres                       Country  \\\n",
       "0              Action,Adventure,Sci-Fi,Thriller  United States,United Kingdom   \n",
       "1                                 Action,Sci-Fi                 United States   \n",
       "2                       Action,Adventure,Sci-Fi                 United States   \n",
       "3                       Adventure,Comedy,Sci-Fi                 United States   \n",
       "5      Animation,Action,Adventure,Family,Sci-Fi                 United States   \n",
       "...                                         ...                           ...   \n",
       "16511                              Drama,Family                 United States   \n",
       "16512                          Adventure,Family                 United States   \n",
       "16513              Comedy,Family,Fantasy,Horror                 United States   \n",
       "16514                      Comedy,Family,Sci-Fi                 United States   \n",
       "16517                  Documentary,Short,Family                 United States   \n",
       "\n",
       "                      Language  Runtime  Exclusive StreamPL  \n",
       "0      English,Japanese,French    148.0          1        N  \n",
       "1                      English    136.0          1        N  \n",
       "2                      English    149.0          1        N  \n",
       "3                      English    116.0          1        N  \n",
       "5              English,Spanish    117.0          1        N  \n",
       "...                        ...      ...        ...      ...  \n",
       "16511                  English     89.0          1        D  \n",
       "16512                  English     72.0          1        D  \n",
       "16513                  English    120.0          1        D  \n",
       "16514                  English     90.0          1        D  \n",
       "16517                  English     32.0          1        D  \n",
       "\n",
       "[15237 rows x 17 columns]"
      ]
     },
     "execution_count": 53,
     "metadata": {},
     "output_type": "execute_result"
    }
   ],
   "source": [
    "#Visualization of the results for the loc above\n",
    "Exclusive_df"
   ]
  },
  {
   "cell_type": "code",
   "execution_count": 54,
   "metadata": {},
   "outputs": [
    {
     "name": "stderr",
     "output_type": "stream",
     "text": [
      "c:\\users\\pao\\documents\\bootcamp_pevp\\bootcamp\\lib\\site-packages\\pandas\\core\\indexing.py:1765: SettingWithCopyWarning: \n",
      "A value is trying to be set on a copy of a slice from a DataFrame.\n",
      "Try using .loc[row_indexer,col_indexer] = value instead\n",
      "\n",
      "See the caveats in the documentation: https://pandas.pydata.org/pandas-docs/stable/user_guide/indexing.html#returning-a-view-versus-a-copy\n",
      "  isetter(loc, value)\n",
      "c:\\users\\pao\\documents\\bootcamp_pevp\\bootcamp\\lib\\site-packages\\pandas\\core\\indexing.py:1765: SettingWithCopyWarning: \n",
      "A value is trying to be set on a copy of a slice from a DataFrame.\n",
      "Try using .loc[row_indexer,col_indexer] = value instead\n",
      "\n",
      "See the caveats in the documentation: https://pandas.pydata.org/pandas-docs/stable/user_guide/indexing.html#returning-a-view-versus-a-copy\n",
      "  isetter(loc, value)\n",
      "c:\\users\\pao\\documents\\bootcamp_pevp\\bootcamp\\lib\\site-packages\\pandas\\core\\indexing.py:1765: SettingWithCopyWarning: \n",
      "A value is trying to be set on a copy of a slice from a DataFrame.\n",
      "Try using .loc[row_indexer,col_indexer] = value instead\n",
      "\n",
      "See the caveats in the documentation: https://pandas.pydata.org/pandas-docs/stable/user_guide/indexing.html#returning-a-view-versus-a-copy\n",
      "  isetter(loc, value)\n",
      "c:\\users\\pao\\documents\\bootcamp_pevp\\bootcamp\\lib\\site-packages\\pandas\\core\\indexing.py:1765: SettingWithCopyWarning: \n",
      "A value is trying to be set on a copy of a slice from a DataFrame.\n",
      "Try using .loc[row_indexer,col_indexer] = value instead\n",
      "\n",
      "See the caveats in the documentation: https://pandas.pydata.org/pandas-docs/stable/user_guide/indexing.html#returning-a-view-versus-a-copy\n",
      "  isetter(loc, value)\n"
     ]
    }
   ],
   "source": [
    "#Exlusive series by platform SERIE_df\n",
    "ExclusiveSeries_df.loc[ExclusiveSeries_df['Netflix']==1, 'StreamPL'] = 'N'\n",
    "ExclusiveSeries_df.loc[ExclusiveSeries_df['Prime Video']==1, 'StreamPL'] = 'P'\n",
    "ExclusiveSeries_df.loc[ExclusiveSeries_df['Hulu']==1, 'StreamPL'] = 'H'\n",
    "ExclusiveSeries_df.loc[ExclusiveSeries_df['Disney+']==1, 'StreamPL'] = 'D'"
   ]
  },
  {
   "cell_type": "code",
   "execution_count": 56,
   "metadata": {},
   "outputs": [
    {
     "data": {
      "text/html": [
       "<div>\n",
       "<style scoped>\n",
       "    .dataframe tbody tr th:only-of-type {\n",
       "        vertical-align: middle;\n",
       "    }\n",
       "\n",
       "    .dataframe tbody tr th {\n",
       "        vertical-align: top;\n",
       "    }\n",
       "\n",
       "    .dataframe thead th {\n",
       "        text-align: right;\n",
       "    }\n",
       "</style>\n",
       "<table border=\"1\" class=\"dataframe\">\n",
       "  <thead>\n",
       "    <tr style=\"text-align: right;\">\n",
       "      <th></th>\n",
       "      <th>Unnamed: 0</th>\n",
       "      <th>Title</th>\n",
       "      <th>Year</th>\n",
       "      <th>Age</th>\n",
       "      <th>IMDb</th>\n",
       "      <th>Rotten Tomatoes</th>\n",
       "      <th>Netflix</th>\n",
       "      <th>Hulu</th>\n",
       "      <th>Prime Video</th>\n",
       "      <th>Disney+</th>\n",
       "      <th>type</th>\n",
       "      <th>Exclusive</th>\n",
       "      <th>StreamPL</th>\n",
       "    </tr>\n",
       "  </thead>\n",
       "  <tbody>\n",
       "    <tr>\n",
       "      <th>0</th>\n",
       "      <td>0</td>\n",
       "      <td>Breaking Bad</td>\n",
       "      <td>2008</td>\n",
       "      <td>18+</td>\n",
       "      <td>9.5</td>\n",
       "      <td>96%</td>\n",
       "      <td>1</td>\n",
       "      <td>0</td>\n",
       "      <td>0</td>\n",
       "      <td>0</td>\n",
       "      <td>1</td>\n",
       "      <td>1</td>\n",
       "      <td>N</td>\n",
       "    </tr>\n",
       "    <tr>\n",
       "      <th>1</th>\n",
       "      <td>1</td>\n",
       "      <td>Stranger Things</td>\n",
       "      <td>2016</td>\n",
       "      <td>16+</td>\n",
       "      <td>8.8</td>\n",
       "      <td>93%</td>\n",
       "      <td>1</td>\n",
       "      <td>0</td>\n",
       "      <td>0</td>\n",
       "      <td>0</td>\n",
       "      <td>1</td>\n",
       "      <td>1</td>\n",
       "      <td>N</td>\n",
       "    </tr>\n",
       "    <tr>\n",
       "      <th>2</th>\n",
       "      <td>2</td>\n",
       "      <td>Money Heist</td>\n",
       "      <td>2017</td>\n",
       "      <td>18+</td>\n",
       "      <td>8.4</td>\n",
       "      <td>91%</td>\n",
       "      <td>1</td>\n",
       "      <td>0</td>\n",
       "      <td>0</td>\n",
       "      <td>0</td>\n",
       "      <td>1</td>\n",
       "      <td>1</td>\n",
       "      <td>N</td>\n",
       "    </tr>\n",
       "    <tr>\n",
       "      <th>3</th>\n",
       "      <td>3</td>\n",
       "      <td>Sherlock</td>\n",
       "      <td>2010</td>\n",
       "      <td>16+</td>\n",
       "      <td>9.1</td>\n",
       "      <td>78%</td>\n",
       "      <td>1</td>\n",
       "      <td>0</td>\n",
       "      <td>0</td>\n",
       "      <td>0</td>\n",
       "      <td>1</td>\n",
       "      <td>1</td>\n",
       "      <td>N</td>\n",
       "    </tr>\n",
       "    <tr>\n",
       "      <th>4</th>\n",
       "      <td>4</td>\n",
       "      <td>Better Call Saul</td>\n",
       "      <td>2015</td>\n",
       "      <td>18+</td>\n",
       "      <td>8.7</td>\n",
       "      <td>97%</td>\n",
       "      <td>1</td>\n",
       "      <td>0</td>\n",
       "      <td>0</td>\n",
       "      <td>0</td>\n",
       "      <td>1</td>\n",
       "      <td>1</td>\n",
       "      <td>N</td>\n",
       "    </tr>\n",
       "  </tbody>\n",
       "</table>\n",
       "</div>"
      ],
      "text/plain": [
       "   Unnamed: 0             Title  Year  Age  IMDb Rotten Tomatoes  Netflix  \\\n",
       "0           0      Breaking Bad  2008  18+   9.5             96%        1   \n",
       "1           1   Stranger Things  2016  16+   8.8             93%        1   \n",
       "2           2       Money Heist  2017  18+   8.4             91%        1   \n",
       "3           3          Sherlock  2010  16+   9.1             78%        1   \n",
       "4           4  Better Call Saul  2015  18+   8.7             97%        1   \n",
       "\n",
       "   Hulu  Prime Video  Disney+  type  Exclusive StreamPL  \n",
       "0     0            0        0     1          1        N  \n",
       "1     0            0        0     1          1        N  \n",
       "2     0            0        0     1          1        N  \n",
       "3     0            0        0     1          1        N  \n",
       "4     0            0        0     1          1        N  "
      ]
     },
     "execution_count": 56,
     "metadata": {},
     "output_type": "execute_result"
    }
   ],
   "source": [
    "#Visualization of the results for the loc above\n",
    "ExclusiveSeries_df.head()"
   ]
  },
  {
   "cell_type": "markdown",
   "metadata": {},
   "source": [
    "________________________________________\n",
    "## LOAD STAGE"
   ]
  },
  {
   "cell_type": "code",
   "execution_count": 57,
   "metadata": {},
   "outputs": [],
   "source": [
    "#Save df in csv\n",
    "Exclusive_df.to_csv('moviesdf.csv', index= False)\n",
    "ExclusiveSeries_df.to_csv('seriesdf.csv', index= False)"
   ]
  },
  {
   "cell_type": "markdown",
   "metadata": {},
   "source": [
    "## Create new data with select columns"
   ]
  },
  {
   "cell_type": "code",
   "execution_count": 68,
   "metadata": {},
   "outputs": [
    {
     "data": {
      "text/html": [
       "<div>\n",
       "<style scoped>\n",
       "    .dataframe tbody tr th:only-of-type {\n",
       "        vertical-align: middle;\n",
       "    }\n",
       "\n",
       "    .dataframe tbody tr th {\n",
       "        vertical-align: top;\n",
       "    }\n",
       "\n",
       "    .dataframe thead th {\n",
       "        text-align: right;\n",
       "    }\n",
       "</style>\n",
       "<table border=\"1\" class=\"dataframe\">\n",
       "  <thead>\n",
       "    <tr style=\"text-align: right;\">\n",
       "      <th></th>\n",
       "      <th>Title</th>\n",
       "      <th>IMDb</th>\n",
       "      <th>StreamPL</th>\n",
       "    </tr>\n",
       "  </thead>\n",
       "  <tbody>\n",
       "    <tr>\n",
       "      <th>0</th>\n",
       "      <td>Inception</td>\n",
       "      <td>8.8</td>\n",
       "      <td>N</td>\n",
       "    </tr>\n",
       "    <tr>\n",
       "      <th>1</th>\n",
       "      <td>The Matrix</td>\n",
       "      <td>8.7</td>\n",
       "      <td>N</td>\n",
       "    </tr>\n",
       "    <tr>\n",
       "      <th>2</th>\n",
       "      <td>Avengers: Infinity War</td>\n",
       "      <td>8.5</td>\n",
       "      <td>N</td>\n",
       "    </tr>\n",
       "    <tr>\n",
       "      <th>3</th>\n",
       "      <td>Back to the Future</td>\n",
       "      <td>8.5</td>\n",
       "      <td>N</td>\n",
       "    </tr>\n",
       "    <tr>\n",
       "      <th>5</th>\n",
       "      <td>Spider-Man: Into the Spider-Verse</td>\n",
       "      <td>8.4</td>\n",
       "      <td>N</td>\n",
       "    </tr>\n",
       "  </tbody>\n",
       "</table>\n",
       "</div>"
      ],
      "text/plain": [
       "                               Title  IMDb StreamPL\n",
       "0                          Inception   8.8        N\n",
       "1                         The Matrix   8.7        N\n",
       "2             Avengers: Infinity War   8.5        N\n",
       "3                 Back to the Future   8.5        N\n",
       "5  Spider-Man: Into the Spider-Verse   8.4        N"
      ]
     },
     "execution_count": 68,
     "metadata": {},
     "output_type": "execute_result"
    }
   ],
   "source": [
    "Movies=Exclusive_df[['Title','IMDb','StreamPL']]\n",
    "Movies.head()"
   ]
  },
  {
   "cell_type": "code",
   "execution_count": 67,
   "metadata": {},
   "outputs": [
    {
     "data": {
      "text/html": [
       "<div>\n",
       "<style scoped>\n",
       "    .dataframe tbody tr th:only-of-type {\n",
       "        vertical-align: middle;\n",
       "    }\n",
       "\n",
       "    .dataframe tbody tr th {\n",
       "        vertical-align: top;\n",
       "    }\n",
       "\n",
       "    .dataframe thead th {\n",
       "        text-align: right;\n",
       "    }\n",
       "</style>\n",
       "<table border=\"1\" class=\"dataframe\">\n",
       "  <thead>\n",
       "    <tr style=\"text-align: right;\">\n",
       "      <th></th>\n",
       "      <th>Title</th>\n",
       "      <th>IMDb</th>\n",
       "      <th>StreamPL</th>\n",
       "    </tr>\n",
       "  </thead>\n",
       "  <tbody>\n",
       "    <tr>\n",
       "      <th>0</th>\n",
       "      <td>Breaking Bad</td>\n",
       "      <td>9.5</td>\n",
       "      <td>N</td>\n",
       "    </tr>\n",
       "    <tr>\n",
       "      <th>1</th>\n",
       "      <td>Stranger Things</td>\n",
       "      <td>8.8</td>\n",
       "      <td>N</td>\n",
       "    </tr>\n",
       "    <tr>\n",
       "      <th>2</th>\n",
       "      <td>Money Heist</td>\n",
       "      <td>8.4</td>\n",
       "      <td>N</td>\n",
       "    </tr>\n",
       "    <tr>\n",
       "      <th>3</th>\n",
       "      <td>Sherlock</td>\n",
       "      <td>9.1</td>\n",
       "      <td>N</td>\n",
       "    </tr>\n",
       "    <tr>\n",
       "      <th>4</th>\n",
       "      <td>Better Call Saul</td>\n",
       "      <td>8.7</td>\n",
       "      <td>N</td>\n",
       "    </tr>\n",
       "  </tbody>\n",
       "</table>\n",
       "</div>"
      ],
      "text/plain": [
       "              Title  IMDb StreamPL\n",
       "0      Breaking Bad   9.5        N\n",
       "1   Stranger Things   8.8        N\n",
       "2       Money Heist   8.4        N\n",
       "3          Sherlock   9.1        N\n",
       "4  Better Call Saul   8.7        N"
      ]
     },
     "execution_count": 67,
     "metadata": {},
     "output_type": "execute_result"
    }
   ],
   "source": [
    "Series=ExclusiveSeries_df[['Title','IMDb','StreamPL']]\n",
    "Series.head()"
   ]
  },
  {
   "cell_type": "markdown",
   "metadata": {},
   "source": [
    "## LOAD DATAFRAMES TO PG"
   ]
  },
  {
   "cell_type": "markdown",
   "metadata": {},
   "source": [
    "### Create database connection"
   ]
  },
  {
   "cell_type": "code",
   "execution_count": 79,
   "metadata": {},
   "outputs": [],
   "source": [
    "streaming_connection_string = \"postgres:titota@localhost:5432/Streaming_PL\"\n",
    "engine = create_engine(f'postgresql://{streaming_connection_string}')"
   ]
  },
  {
   "cell_type": "markdown",
   "metadata": {},
   "source": [
    "### Check for tables"
   ]
  },
  {
   "cell_type": "code",
   "execution_count": 83,
   "metadata": {
    "scrolled": true
   },
   "outputs": [
    {
     "data": {
      "text/plain": [
       "['Movies', 'Series']"
      ]
     },
     "execution_count": 83,
     "metadata": {},
     "output_type": "execute_result"
    }
   ],
   "source": [
    "engine.table_names()"
   ]
  },
  {
   "cell_type": "code",
   "execution_count": 81,
   "metadata": {
    "scrolled": true
   },
   "outputs": [],
   "source": [
    "Movies.to_sql(name=\"Movies\",con=engine,if_exists=\"replace\",index=True)"
   ]
  },
  {
   "cell_type": "code",
   "execution_count": 82,
   "metadata": {},
   "outputs": [],
   "source": [
    "Series.to_sql(name=\"Series\",con=engine,if_exists=\"replace\",index=True)"
   ]
  },
  {
   "cell_type": "code",
   "execution_count": 78,
   "metadata": {},
   "outputs": [],
   "source": [
    "engine.dispose()"
   ]
  }
 ],
 "metadata": {
  "kernelspec": {
   "display_name": "Python 3",
   "language": "python",
   "name": "python3"
  },
  "language_info": {
   "codemirror_mode": {
    "name": "ipython",
    "version": 3
   },
   "file_extension": ".py",
   "mimetype": "text/x-python",
   "name": "python",
   "nbconvert_exporter": "python",
   "pygments_lexer": "ipython3",
   "version": "3.8.3"
  }
 },
 "nbformat": 4,
 "nbformat_minor": 4
}
